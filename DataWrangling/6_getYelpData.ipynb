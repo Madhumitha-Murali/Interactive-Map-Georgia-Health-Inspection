{
 "cells": [
  {
   "cell_type": "code",
   "execution_count": 1,
   "metadata": {
    "collapsed": true,
    "ExecuteTime": {
     "start_time": "2023-04-08T08:41:21.637077Z",
     "end_time": "2023-04-08T08:41:21.741836Z"
    }
   },
   "outputs": [],
   "source": [
    "import pandas as pd\n",
    "import time\n",
    "from tqdm import tqdm\n",
    "from yelpapi import YelpAPI"
   ]
  },
  {
   "cell_type": "markdown",
   "source": [
    "# Get Yelp Business data\n",
    "Given that these are all the places with reviews, get their information from Yelp"
   ],
   "metadata": {
    "collapsed": false
   }
  },
  {
   "cell_type": "code",
   "execution_count": 2,
   "outputs": [
    {
     "data": {
      "text/plain": "            dph_id                 yelp_id  \\\n0     MTIzMDIzODE=  u_irrlZiHMa7ueeUHqHtvA   \n1     MTIzMDI4MTI=  39r2fM5P8heVXlLgYkmSaA   \n2     MTI3NzEzMjA=  QjL9fgvhsJta7SSX7P8YMw   \n3     MTI3NzE5MzM=  c2Ta5My44Uz4tT_jrq6u5w   \n4     MTI3NzIwOTA=  lhxEztxsao9WfyfWuSpJfw   \n...            ...                     ...   \n4398  Nzk1Mzg0NQ==  iJ1vqcHFhDSR-vunw7np-w   \n4399  OTQ4NDkzOQ==  g0KkQmGXCtxkzHWoYEQa4A   \n4400      ODg2NDA0  RE8bmfnqfcYEpbUHo3dYVQ   \n4401  Nzk1NjQzMw==  t4M0yOSVLz59H7JQi3FUSQ   \n4402  MTIyNzQwOTg=  WN4j8Bgc4Xex-HVIxPIi3w   \n\n                                           map_add  \\\n0         4975 FLAT SHOALS PKWY, DECATUR, GA 30034   \n1       6000 MEMORIAL DR, STONE MOUNTAIN, GA 30083   \n2     1245 GLENWOOD AVE BOOTH 6, ATLANTA, GA 30316   \n3     1245 GLENWOOD AVE BOOTH 5, ATLANTA, GA 30316   \n4             1245 GLENWOOD AVE, ATLANTA, GA 30316   \n...                                            ...   \n4398            1 GLENLAKE PKWY, ATLANTA, GA 30328   \n4399   699 PONCE DE LEON AVE NE, ATLANTA, GA 30308   \n4400           860 BANKHEAD HWY, ATLANTA, GA 30318   \n4401  296 NORTHSIDE DR SE STE B, ATLANTA, GA 30315   \n4402      4285 ROSWELL RD STE 6, ATLANTA, GA 30342   \n\n                                            name  score        date  \\\n0                 THE SPOT SPORTS BAR AND LOUNGE     82  03-28-2023   \n1                                  CHECKERS 3299     75  03-28-2023   \n2     WOODY'S CHEESESTEAKS @ SOUTHERN FEED STORE     90  03-28-2023   \n3                            BUTECO COFFEE & BAR     90  03-28-2023   \n4                                     WAFFLE BAR     96  03-28-2023   \n...                                          ...    ...         ...   \n4398                              Salt and Block    100  06-17-2020   \n4399                                        Rina     91  06-11-2020   \n4400                            Church's Chicken     81  06-04-2020   \n4401                         Boston Fish Supreme     92  05-11-2020   \n4402                                 Sahara Cafe    100  04-29-2020   \n\n            lat        lng                     place_id  \\\n0     33.679683 -84.225939  ChIJ_VJqwyCr9YgRqi3SpD0y_D4   \n1     33.802508 -84.194184  ChIJI1XSV9Co9YgRTaCjP9meAGU   \n2     33.740018 -84.346687  ChIJf_mTH24B9YgRakzoS_Ul8PY   \n3     33.740018 -84.346687  ChIJFTylmyQB9YgRoqYQtN0zT_w   \n4     33.740018 -84.346687  ChIJK9uF2ncB9YgR9OYM7wwSMhM   \n...         ...        ...                          ...   \n4398  33.934143 -84.359589  ChIJmZvS9akO9YgRzttitW3oTwU   \n4399  33.772659 -84.364304  ChIJf4qwAK4F9YgRVupJKoORNMc   \n4400  33.772831 -84.415690  ChIJzaE75HAb9YgRBRlaqDNx2lM   \n4401  33.746267 -84.405973  ChIJ59NmO3AD9YgRJsL3BTxHUVk   \n4402  33.871847 -84.380530  ChIJQUU4JJEP9YgR_JBd6sT5yrg   \n\n                                                  types  \n0                                             [premise]  \n1     [establishment, food, point_of_interest, resta...  \n2     [establishment, food, point_of_interest, resta...  \n3               [bar, establishment, point_of_interest]  \n4     [establishment, food, point_of_interest, resta...  \n...                                                 ...  \n4398  [cafe, establishment, food, point_of_interest,...  \n4399  [establishment, food, point_of_interest, resta...  \n4400  [establishment, food, point_of_interest, resta...  \n4401  [establishment, food, point_of_interest, resta...  \n4402  [establishment, food, point_of_interest, resta...  \n\n[4403 rows x 10 columns]",
      "text/html": "<div>\n<style scoped>\n    .dataframe tbody tr th:only-of-type {\n        vertical-align: middle;\n    }\n\n    .dataframe tbody tr th {\n        vertical-align: top;\n    }\n\n    .dataframe thead th {\n        text-align: right;\n    }\n</style>\n<table border=\"1\" class=\"dataframe\">\n  <thead>\n    <tr style=\"text-align: right;\">\n      <th></th>\n      <th>dph_id</th>\n      <th>yelp_id</th>\n      <th>map_add</th>\n      <th>name</th>\n      <th>score</th>\n      <th>date</th>\n      <th>lat</th>\n      <th>lng</th>\n      <th>place_id</th>\n      <th>types</th>\n    </tr>\n  </thead>\n  <tbody>\n    <tr>\n      <th>0</th>\n      <td>MTIzMDIzODE=</td>\n      <td>u_irrlZiHMa7ueeUHqHtvA</td>\n      <td>4975 FLAT SHOALS PKWY, DECATUR, GA 30034</td>\n      <td>THE SPOT SPORTS BAR AND LOUNGE</td>\n      <td>82</td>\n      <td>03-28-2023</td>\n      <td>33.679683</td>\n      <td>-84.225939</td>\n      <td>ChIJ_VJqwyCr9YgRqi3SpD0y_D4</td>\n      <td>[premise]</td>\n    </tr>\n    <tr>\n      <th>1</th>\n      <td>MTIzMDI4MTI=</td>\n      <td>39r2fM5P8heVXlLgYkmSaA</td>\n      <td>6000 MEMORIAL DR, STONE MOUNTAIN, GA 30083</td>\n      <td>CHECKERS 3299</td>\n      <td>75</td>\n      <td>03-28-2023</td>\n      <td>33.802508</td>\n      <td>-84.194184</td>\n      <td>ChIJI1XSV9Co9YgRTaCjP9meAGU</td>\n      <td>[establishment, food, point_of_interest, resta...</td>\n    </tr>\n    <tr>\n      <th>2</th>\n      <td>MTI3NzEzMjA=</td>\n      <td>QjL9fgvhsJta7SSX7P8YMw</td>\n      <td>1245 GLENWOOD AVE BOOTH 6, ATLANTA, GA 30316</td>\n      <td>WOODY'S CHEESESTEAKS @ SOUTHERN FEED STORE</td>\n      <td>90</td>\n      <td>03-28-2023</td>\n      <td>33.740018</td>\n      <td>-84.346687</td>\n      <td>ChIJf_mTH24B9YgRakzoS_Ul8PY</td>\n      <td>[establishment, food, point_of_interest, resta...</td>\n    </tr>\n    <tr>\n      <th>3</th>\n      <td>MTI3NzE5MzM=</td>\n      <td>c2Ta5My44Uz4tT_jrq6u5w</td>\n      <td>1245 GLENWOOD AVE BOOTH 5, ATLANTA, GA 30316</td>\n      <td>BUTECO COFFEE &amp; BAR</td>\n      <td>90</td>\n      <td>03-28-2023</td>\n      <td>33.740018</td>\n      <td>-84.346687</td>\n      <td>ChIJFTylmyQB9YgRoqYQtN0zT_w</td>\n      <td>[bar, establishment, point_of_interest]</td>\n    </tr>\n    <tr>\n      <th>4</th>\n      <td>MTI3NzIwOTA=</td>\n      <td>lhxEztxsao9WfyfWuSpJfw</td>\n      <td>1245 GLENWOOD AVE, ATLANTA, GA 30316</td>\n      <td>WAFFLE BAR</td>\n      <td>96</td>\n      <td>03-28-2023</td>\n      <td>33.740018</td>\n      <td>-84.346687</td>\n      <td>ChIJK9uF2ncB9YgR9OYM7wwSMhM</td>\n      <td>[establishment, food, point_of_interest, resta...</td>\n    </tr>\n    <tr>\n      <th>...</th>\n      <td>...</td>\n      <td>...</td>\n      <td>...</td>\n      <td>...</td>\n      <td>...</td>\n      <td>...</td>\n      <td>...</td>\n      <td>...</td>\n      <td>...</td>\n      <td>...</td>\n    </tr>\n    <tr>\n      <th>4398</th>\n      <td>Nzk1Mzg0NQ==</td>\n      <td>iJ1vqcHFhDSR-vunw7np-w</td>\n      <td>1 GLENLAKE PKWY, ATLANTA, GA 30328</td>\n      <td>Salt and Block</td>\n      <td>100</td>\n      <td>06-17-2020</td>\n      <td>33.934143</td>\n      <td>-84.359589</td>\n      <td>ChIJmZvS9akO9YgRzttitW3oTwU</td>\n      <td>[cafe, establishment, food, point_of_interest,...</td>\n    </tr>\n    <tr>\n      <th>4399</th>\n      <td>OTQ4NDkzOQ==</td>\n      <td>g0KkQmGXCtxkzHWoYEQa4A</td>\n      <td>699 PONCE DE LEON AVE NE, ATLANTA, GA 30308</td>\n      <td>Rina</td>\n      <td>91</td>\n      <td>06-11-2020</td>\n      <td>33.772659</td>\n      <td>-84.364304</td>\n      <td>ChIJf4qwAK4F9YgRVupJKoORNMc</td>\n      <td>[establishment, food, point_of_interest, resta...</td>\n    </tr>\n    <tr>\n      <th>4400</th>\n      <td>ODg2NDA0</td>\n      <td>RE8bmfnqfcYEpbUHo3dYVQ</td>\n      <td>860 BANKHEAD HWY, ATLANTA, GA 30318</td>\n      <td>Church's Chicken</td>\n      <td>81</td>\n      <td>06-04-2020</td>\n      <td>33.772831</td>\n      <td>-84.415690</td>\n      <td>ChIJzaE75HAb9YgRBRlaqDNx2lM</td>\n      <td>[establishment, food, point_of_interest, resta...</td>\n    </tr>\n    <tr>\n      <th>4401</th>\n      <td>Nzk1NjQzMw==</td>\n      <td>t4M0yOSVLz59H7JQi3FUSQ</td>\n      <td>296 NORTHSIDE DR SE STE B, ATLANTA, GA 30315</td>\n      <td>Boston Fish Supreme</td>\n      <td>92</td>\n      <td>05-11-2020</td>\n      <td>33.746267</td>\n      <td>-84.405973</td>\n      <td>ChIJ59NmO3AD9YgRJsL3BTxHUVk</td>\n      <td>[establishment, food, point_of_interest, resta...</td>\n    </tr>\n    <tr>\n      <th>4402</th>\n      <td>MTIyNzQwOTg=</td>\n      <td>WN4j8Bgc4Xex-HVIxPIi3w</td>\n      <td>4285 ROSWELL RD STE 6, ATLANTA, GA 30342</td>\n      <td>Sahara Cafe</td>\n      <td>100</td>\n      <td>04-29-2020</td>\n      <td>33.871847</td>\n      <td>-84.380530</td>\n      <td>ChIJQUU4JJEP9YgR_JBd6sT5yrg</td>\n      <td>[establishment, food, point_of_interest, resta...</td>\n    </tr>\n  </tbody>\n</table>\n<p>4403 rows × 10 columns</p>\n</div>"
     },
     "execution_count": 2,
     "metadata": {},
     "output_type": "execute_result"
    }
   ],
   "source": [
    "df1 = pd.read_pickle('all_yelp_ids.pkl')\n",
    "df2 = pd.read_pickle('geocoded_df.pkl')\n",
    "df3 = df1.merge(df2, how='inner', on='dph_id')"
   ],
   "metadata": {
    "collapsed": false,
    "ExecuteTime": {
     "start_time": "2023-04-08T08:41:21.741072Z",
     "end_time": "2023-04-08T08:41:21.765642Z"
    }
   }
  },
  {
   "cell_type": "code",
   "execution_count": 6,
   "outputs": [
    {
     "name": "stderr",
     "output_type": "stream",
     "text": [
      " 79%|███████▉  | 3470/4403 [15:33<04:54,  3.17it/s]"
     ]
    },
    {
     "name": "stdout",
     "output_type": "stream",
     "text": [
      "NOT_FOUND: Resource could not be found.\n"
     ]
    },
    {
     "name": "stderr",
     "output_type": "stream",
     "text": [
      " 91%|█████████ | 3985/4403 [17:45<02:11,  3.18it/s]"
     ]
    },
    {
     "name": "stdout",
     "output_type": "stream",
     "text": [
      "NOT_FOUND: Resource could not be found.\n"
     ]
    },
    {
     "name": "stderr",
     "output_type": "stream",
     "text": [
      "100%|██████████| 4403/4403 [19:34<00:00,  3.75it/s]\n"
     ]
    }
   ],
   "source": [
    "api_key = \"qOWiNCp8Sblg84q0uiPRXiksxMk2DzMvMRnnSI29PxS-xv9sG9e4yxJ-lPHFaMHaacOJ8uBOZX4T1rY3fhnZTzzy4ZW2m_vT-WhnYgix5RSSc4VnFQw0-lQmQVQxZHYx\"\n",
    "\n",
    "responses = []\n",
    "frame = df3\n",
    "for index, entity in tqdm(frame.iterrows(), total=frame.shape[0]):\n",
    "    try:\n",
    "        with YelpAPI(api_key) as yelp_api:\n",
    "            response = yelp_api.business_query(id=entity['yelp_id'])\n",
    "        row = {\n",
    "            'dph_id': entity['dph_id'],\n",
    "            'result': response\n",
    "        }\n",
    "    except Exception as e:\n",
    "        row = {\n",
    "            'dph_id': entity['dph_id'],\n",
    "            'result': []\n",
    "        }\n",
    "        print(e)\n",
    "    responses.append(row)\n",
    "    time.sleep(20/1000)"
   ],
   "metadata": {
    "collapsed": false,
    "ExecuteTime": {
     "start_time": "2023-04-08T08:54:39.521276Z",
     "end_time": "2023-04-08T09:14:13.804200Z"
    }
   }
  },
  {
   "cell_type": "code",
   "execution_count": 10,
   "outputs": [
    {
     "data": {
      "text/plain": "            dph_id                                             result\n0     MTIzMDIzODE=  {'id': 'u_irrlZiHMa7ueeUHqHtvA', 'alias': 'the...\n1     MTIzMDI4MTI=  {'id': '39r2fM5P8heVXlLgYkmSaA', 'alias': 'che...\n2     MTI3NzEzMjA=  {'id': 'QjL9fgvhsJta7SSX7P8YMw', 'alias': 'woo...\n3     MTI3NzE5MzM=  {'id': 'c2Ta5My44Uz4tT_jrq6u5w', 'alias': 'but...\n4     MTI3NzIwOTA=  {'id': 'lhxEztxsao9WfyfWuSpJfw', 'alias': 'waf...\n...            ...                                                ...\n4396  Nzk1Mzg0NQ==  {'id': 'iJ1vqcHFhDSR-vunw7np-w', 'alias': 'sal...\n4397  OTQ4NDkzOQ==  {'id': 'g0KkQmGXCtxkzHWoYEQa4A', 'alias': 'rin...\n4398      ODg2NDA0  {'id': 'RE8bmfnqfcYEpbUHo3dYVQ', 'alias': 'chu...\n4399  Nzk1NjQzMw==  {'id': 't4M0yOSVLz59H7JQi3FUSQ', 'alias': 'bos...\n4400  MTIyNzQwOTg=  {'id': 'WN4j8Bgc4Xex-HVIxPIi3w', 'alias': 'sah...\n\n[4401 rows x 2 columns]",
      "text/html": "<div>\n<style scoped>\n    .dataframe tbody tr th:only-of-type {\n        vertical-align: middle;\n    }\n\n    .dataframe tbody tr th {\n        vertical-align: top;\n    }\n\n    .dataframe thead th {\n        text-align: right;\n    }\n</style>\n<table border=\"1\" class=\"dataframe\">\n  <thead>\n    <tr style=\"text-align: right;\">\n      <th></th>\n      <th>dph_id</th>\n      <th>result</th>\n    </tr>\n  </thead>\n  <tbody>\n    <tr>\n      <th>0</th>\n      <td>MTIzMDIzODE=</td>\n      <td>{'id': 'u_irrlZiHMa7ueeUHqHtvA', 'alias': 'the...</td>\n    </tr>\n    <tr>\n      <th>1</th>\n      <td>MTIzMDI4MTI=</td>\n      <td>{'id': '39r2fM5P8heVXlLgYkmSaA', 'alias': 'che...</td>\n    </tr>\n    <tr>\n      <th>2</th>\n      <td>MTI3NzEzMjA=</td>\n      <td>{'id': 'QjL9fgvhsJta7SSX7P8YMw', 'alias': 'woo...</td>\n    </tr>\n    <tr>\n      <th>3</th>\n      <td>MTI3NzE5MzM=</td>\n      <td>{'id': 'c2Ta5My44Uz4tT_jrq6u5w', 'alias': 'but...</td>\n    </tr>\n    <tr>\n      <th>4</th>\n      <td>MTI3NzIwOTA=</td>\n      <td>{'id': 'lhxEztxsao9WfyfWuSpJfw', 'alias': 'waf...</td>\n    </tr>\n    <tr>\n      <th>...</th>\n      <td>...</td>\n      <td>...</td>\n    </tr>\n    <tr>\n      <th>4396</th>\n      <td>Nzk1Mzg0NQ==</td>\n      <td>{'id': 'iJ1vqcHFhDSR-vunw7np-w', 'alias': 'sal...</td>\n    </tr>\n    <tr>\n      <th>4397</th>\n      <td>OTQ4NDkzOQ==</td>\n      <td>{'id': 'g0KkQmGXCtxkzHWoYEQa4A', 'alias': 'rin...</td>\n    </tr>\n    <tr>\n      <th>4398</th>\n      <td>ODg2NDA0</td>\n      <td>{'id': 'RE8bmfnqfcYEpbUHo3dYVQ', 'alias': 'chu...</td>\n    </tr>\n    <tr>\n      <th>4399</th>\n      <td>Nzk1NjQzMw==</td>\n      <td>{'id': 't4M0yOSVLz59H7JQi3FUSQ', 'alias': 'bos...</td>\n    </tr>\n    <tr>\n      <th>4400</th>\n      <td>MTIyNzQwOTg=</td>\n      <td>{'id': 'WN4j8Bgc4Xex-HVIxPIi3w', 'alias': 'sah...</td>\n    </tr>\n  </tbody>\n</table>\n<p>4401 rows × 2 columns</p>\n</div>"
     },
     "execution_count": 10,
     "metadata": {},
     "output_type": "execute_result"
    }
   ],
   "source": [
    "filt_resp = []\n",
    "for r in responses:\n",
    "    if len(r['result']) != 0:\n",
    "        filt_resp.append(r)\n",
    "\n",
    "filt_resp = pd.DataFrame.from_records(filt_resp)\n",
    "filt_resp.to_pickle('yelp_all_data.pkl')\n",
    "filt_resp"
   ],
   "metadata": {
    "collapsed": false,
    "ExecuteTime": {
     "start_time": "2023-04-08T09:22:58.498345Z",
     "end_time": "2023-04-08T09:22:58.581607Z"
    }
   }
  },
  {
   "cell_type": "code",
   "execution_count": 83,
   "outputs": [
    {
     "data": {
      "text/plain": "            dph_id                 yelp_id  rating  review_count  \\\n0     MTIzMDIzODE=  u_irrlZiHMa7ueeUHqHtvA     2.5            26   \n1     MTIzMDI4MTI=  39r2fM5P8heVXlLgYkmSaA     1.5            28   \n2     MTI3NzEzMjA=  QjL9fgvhsJta7SSX7P8YMw     3.5            20   \n3     MTI3NzE5MzM=  c2Ta5My44Uz4tT_jrq6u5w     5.0             2   \n4     MTI3NzIwOTA=  lhxEztxsao9WfyfWuSpJfw     4.0            23   \n...            ...                     ...     ...           ...   \n4396  Nzk1Mzg0NQ==  iJ1vqcHFhDSR-vunw7np-w     4.0             8   \n4397  OTQ4NDkzOQ==  g0KkQmGXCtxkzHWoYEQa4A     4.5           203   \n4398      ODg2NDA0  RE8bmfnqfcYEpbUHo3dYVQ     3.0            10   \n4399  Nzk1NjQzMw==  t4M0yOSVLz59H7JQi3FUSQ     3.5            12   \n4400  MTIyNzQwOTg=  WN4j8Bgc4Xex-HVIxPIi3w     5.0           116   \n\n                                                img_url  \\\n0     https://s3-media4.fl.yelpcdn.com/bphoto/xcsf4Y...   \n1     https://s3-media4.fl.yelpcdn.com/bphoto/eqdMzy...   \n2     https://s3-media4.fl.yelpcdn.com/bphoto/H9KSBt...   \n3     https://s3-media2.fl.yelpcdn.com/bphoto/nx4wvS...   \n4     https://s3-media1.fl.yelpcdn.com/bphoto/vWOLn5...   \n...                                                 ...   \n4396  https://s3-media1.fl.yelpcdn.com/bphoto/ZaelGz...   \n4397  https://s3-media2.fl.yelpcdn.com/bphoto/ZXKglF...   \n4398  https://s3-media3.fl.yelpcdn.com/bphoto/U-CJhb...   \n4399  https://s3-media2.fl.yelpcdn.com/bphoto/YgKepQ...   \n4400  https://s3-media3.fl.yelpcdn.com/bphoto/eUWGkz...   \n\n                          yelp_name  price  \n0     The Spot Sports Bar And Grill      0  \n1                          Checkers      1  \n2              Woody's Cheesesteaks      0  \n3                        Buteco EAV      0  \n4                        Waffle Bar      0  \n...                             ...    ...  \n4396                   Salt + Block      1  \n4397                           Rina      2  \n4398               Church's Chicken      1  \n4399            Boston Fish Supreme      1  \n4400                    Sahara Cafe      0  \n\n[4401 rows x 7 columns]",
      "text/html": "<div>\n<style scoped>\n    .dataframe tbody tr th:only-of-type {\n        vertical-align: middle;\n    }\n\n    .dataframe tbody tr th {\n        vertical-align: top;\n    }\n\n    .dataframe thead th {\n        text-align: right;\n    }\n</style>\n<table border=\"1\" class=\"dataframe\">\n  <thead>\n    <tr style=\"text-align: right;\">\n      <th></th>\n      <th>dph_id</th>\n      <th>yelp_id</th>\n      <th>rating</th>\n      <th>review_count</th>\n      <th>img_url</th>\n      <th>yelp_name</th>\n      <th>price</th>\n    </tr>\n  </thead>\n  <tbody>\n    <tr>\n      <th>0</th>\n      <td>MTIzMDIzODE=</td>\n      <td>u_irrlZiHMa7ueeUHqHtvA</td>\n      <td>2.5</td>\n      <td>26</td>\n      <td>https://s3-media4.fl.yelpcdn.com/bphoto/xcsf4Y...</td>\n      <td>The Spot Sports Bar And Grill</td>\n      <td>0</td>\n    </tr>\n    <tr>\n      <th>1</th>\n      <td>MTIzMDI4MTI=</td>\n      <td>39r2fM5P8heVXlLgYkmSaA</td>\n      <td>1.5</td>\n      <td>28</td>\n      <td>https://s3-media4.fl.yelpcdn.com/bphoto/eqdMzy...</td>\n      <td>Checkers</td>\n      <td>1</td>\n    </tr>\n    <tr>\n      <th>2</th>\n      <td>MTI3NzEzMjA=</td>\n      <td>QjL9fgvhsJta7SSX7P8YMw</td>\n      <td>3.5</td>\n      <td>20</td>\n      <td>https://s3-media4.fl.yelpcdn.com/bphoto/H9KSBt...</td>\n      <td>Woody's Cheesesteaks</td>\n      <td>0</td>\n    </tr>\n    <tr>\n      <th>3</th>\n      <td>MTI3NzE5MzM=</td>\n      <td>c2Ta5My44Uz4tT_jrq6u5w</td>\n      <td>5.0</td>\n      <td>2</td>\n      <td>https://s3-media2.fl.yelpcdn.com/bphoto/nx4wvS...</td>\n      <td>Buteco EAV</td>\n      <td>0</td>\n    </tr>\n    <tr>\n      <th>4</th>\n      <td>MTI3NzIwOTA=</td>\n      <td>lhxEztxsao9WfyfWuSpJfw</td>\n      <td>4.0</td>\n      <td>23</td>\n      <td>https://s3-media1.fl.yelpcdn.com/bphoto/vWOLn5...</td>\n      <td>Waffle Bar</td>\n      <td>0</td>\n    </tr>\n    <tr>\n      <th>...</th>\n      <td>...</td>\n      <td>...</td>\n      <td>...</td>\n      <td>...</td>\n      <td>...</td>\n      <td>...</td>\n      <td>...</td>\n    </tr>\n    <tr>\n      <th>4396</th>\n      <td>Nzk1Mzg0NQ==</td>\n      <td>iJ1vqcHFhDSR-vunw7np-w</td>\n      <td>4.0</td>\n      <td>8</td>\n      <td>https://s3-media1.fl.yelpcdn.com/bphoto/ZaelGz...</td>\n      <td>Salt + Block</td>\n      <td>1</td>\n    </tr>\n    <tr>\n      <th>4397</th>\n      <td>OTQ4NDkzOQ==</td>\n      <td>g0KkQmGXCtxkzHWoYEQa4A</td>\n      <td>4.5</td>\n      <td>203</td>\n      <td>https://s3-media2.fl.yelpcdn.com/bphoto/ZXKglF...</td>\n      <td>Rina</td>\n      <td>2</td>\n    </tr>\n    <tr>\n      <th>4398</th>\n      <td>ODg2NDA0</td>\n      <td>RE8bmfnqfcYEpbUHo3dYVQ</td>\n      <td>3.0</td>\n      <td>10</td>\n      <td>https://s3-media3.fl.yelpcdn.com/bphoto/U-CJhb...</td>\n      <td>Church's Chicken</td>\n      <td>1</td>\n    </tr>\n    <tr>\n      <th>4399</th>\n      <td>Nzk1NjQzMw==</td>\n      <td>t4M0yOSVLz59H7JQi3FUSQ</td>\n      <td>3.5</td>\n      <td>12</td>\n      <td>https://s3-media2.fl.yelpcdn.com/bphoto/YgKepQ...</td>\n      <td>Boston Fish Supreme</td>\n      <td>1</td>\n    </tr>\n    <tr>\n      <th>4400</th>\n      <td>MTIyNzQwOTg=</td>\n      <td>WN4j8Bgc4Xex-HVIxPIi3w</td>\n      <td>5.0</td>\n      <td>116</td>\n      <td>https://s3-media3.fl.yelpcdn.com/bphoto/eUWGkz...</td>\n      <td>Sahara Cafe</td>\n      <td>0</td>\n    </tr>\n  </tbody>\n</table>\n<p>4401 rows × 7 columns</p>\n</div>"
     },
     "execution_count": 83,
     "metadata": {},
     "output_type": "execute_result"
    }
   ],
   "source": [
    "# Serialize these responses we're interested in\n",
    "serialized = []\n",
    "\n",
    "for index, resp in filt_resp.iterrows():\n",
    "    r = resp['result']\n",
    "    price = len(r.get('price', ''))\n",
    "    s = {\n",
    "        'dph_id': resp['dph_id'],\n",
    "        'yelp_id': r['id'],\n",
    "        'rating': r['rating'],\n",
    "        'review_count': r['review_count'],\n",
    "        'img_url': r['image_url'],\n",
    "        'yelp_name': r['name'],\n",
    "        'price': price\n",
    "    }\n",
    "    serialized.append(s)\n",
    "\n",
    "serialized = pd.DataFrame.from_records(serialized)\n",
    "serialized"
   ],
   "metadata": {
    "collapsed": false,
    "ExecuteTime": {
     "start_time": "2023-04-08T12:32:29.596512Z",
     "end_time": "2023-04-08T12:32:29.762172Z"
    }
   }
  },
  {
   "cell_type": "code",
   "execution_count": 84,
   "outputs": [],
   "source": [
    "agg_df = pd.read_pickle('entity_aggregation.pkl')"
   ],
   "metadata": {
    "collapsed": false,
    "ExecuteTime": {
     "start_time": "2023-04-08T12:33:18.780604Z",
     "end_time": "2023-04-08T12:33:18.843325Z"
    }
   }
  },
  {
   "cell_type": "code",
   "execution_count": 85,
   "outputs": [],
   "source": [
    "yelp_df = serialized.merge(agg_df, how='inner', on='dph_id')"
   ],
   "metadata": {
    "collapsed": false,
    "ExecuteTime": {
     "start_time": "2023-04-08T12:33:19.666955Z",
     "end_time": "2023-04-08T12:33:19.711515Z"
    }
   }
  },
  {
   "cell_type": "code",
   "execution_count": 86,
   "outputs": [
    {
     "data": {
      "text/plain": "            dph_id                 yelp_id  rating  review_count  \\\n0     MTIzMDIzODE=  u_irrlZiHMa7ueeUHqHtvA     2.5            26   \n1     MTIzMDI4MTI=  39r2fM5P8heVXlLgYkmSaA     1.5            28   \n2     MTI3NzEzMjA=  QjL9fgvhsJta7SSX7P8YMw     3.5            20   \n3     MTI3NzE5MzM=  c2Ta5My44Uz4tT_jrq6u5w     5.0             2   \n4     MTI3NzIwOTA=  lhxEztxsao9WfyfWuSpJfw     4.0            23   \n...            ...                     ...     ...           ...   \n4386  Nzk1Mzg0NQ==  iJ1vqcHFhDSR-vunw7np-w     4.0             8   \n4387  OTQ4NDkzOQ==  g0KkQmGXCtxkzHWoYEQa4A     4.5           203   \n4388      ODg2NDA0  RE8bmfnqfcYEpbUHo3dYVQ     3.0            10   \n4389  Nzk1NjQzMw==  t4M0yOSVLz59H7JQi3FUSQ     3.5            12   \n4390  MTIyNzQwOTg=  WN4j8Bgc4Xex-HVIxPIi3w     5.0           116   \n\n                                                img_url  \\\n0     https://s3-media4.fl.yelpcdn.com/bphoto/xcsf4Y...   \n1     https://s3-media4.fl.yelpcdn.com/bphoto/eqdMzy...   \n2     https://s3-media4.fl.yelpcdn.com/bphoto/H9KSBt...   \n3     https://s3-media2.fl.yelpcdn.com/bphoto/nx4wvS...   \n4     https://s3-media1.fl.yelpcdn.com/bphoto/vWOLn5...   \n...                                                 ...   \n4386  https://s3-media1.fl.yelpcdn.com/bphoto/ZaelGz...   \n4387  https://s3-media2.fl.yelpcdn.com/bphoto/ZXKglF...   \n4388  https://s3-media3.fl.yelpcdn.com/bphoto/U-CJhb...   \n4389  https://s3-media2.fl.yelpcdn.com/bphoto/YgKepQ...   \n4390  https://s3-media3.fl.yelpcdn.com/bphoto/eUWGkz...   \n\n                          yelp_name  price  \\\n0     The Spot Sports Bar And Grill      0   \n1                          Checkers      1   \n2              Woody's Cheesesteaks      0   \n3                        Buteco EAV      0   \n4                        Waffle Bar      0   \n...                             ...    ...   \n4386                   Salt + Block      1   \n4387                           Rina      2   \n4388               Church's Chicken      1   \n4389            Boston Fish Supreme      1   \n4390                    Sahara Cafe      0   \n\n                                             violations  years_data  \\\n0     [6-1B, 12B, 13A, 18, 4-2B, 4-2B, 6-1A, 6-1B, 1...    2.276712   \n1     [2-2D, 2-2D, 4-2B, 6-1A, 15A, 15C, 17C, 18, 18...    2.027397   \n2                      [2-2D, 2-2D, 11A, 18, 6-1A, 14B]    1.276712   \n3                    [2-2D, 4-2A, 2-1B, 2-2D, 12B, 12B]    1.276712   \n4                                     [2-2E, 8-2B, 17D]    1.276712   \n...                                                 ...         ...   \n4386                                                 []    0.000000   \n4387                              [2-2B, 6-2, 6-2, 14A]    0.000000   \n4388                         [4-2B, 6-1B, 15C, 17C, 18]    0.000000   \n4389                                   [2-2D, 11C, 17D]    0.000000   \n4390                                                 []    0.000000   \n\n      lifetime_count  ... lifetime_avg  violation_rate  \\\n0                 15  ...    82.666667        6.588448   \n1                 29  ...    84.000000       14.304054   \n2                  6  ...    93.333333        4.699571   \n3                  6  ...    91.333333        4.699571   \n4                  3  ...    97.000000        2.349785   \n...              ...  ...          ...             ...   \n4386               0  ...   100.000000        0.000000   \n4387               4  ...    91.000000        4.000000   \n4388               5  ...    81.000000        5.000000   \n4389               3  ...    92.000000        3.000000   \n4390               0  ...   100.000000        0.000000   \n\n                                           map_add  \\\n0         4975 FLAT SHOALS PKWY, DECATUR, GA 30034   \n1       6000 MEMORIAL DR, STONE MOUNTAIN, GA 30083   \n2     1245 GLENWOOD AVE BOOTH 6, ATLANTA, GA 30316   \n3     1245 GLENWOOD AVE BOOTH 5, ATLANTA, GA 30316   \n4             1245 GLENWOOD AVE, ATLANTA, GA 30316   \n...                                            ...   \n4386            1 GLENLAKE PKWY, ATLANTA, GA 30328   \n4387   699 PONCE DE LEON AVE NE, ATLANTA, GA 30308   \n4388           860 BANKHEAD HWY, ATLANTA, GA 30318   \n4389  296 NORTHSIDE DR SE STE B, ATLANTA, GA 30315   \n4390      4285 ROSWELL RD STE 6, ATLANTA, GA 30342   \n\n                                            name score        date        lat  \\\n0                 THE SPOT SPORTS BAR AND LOUNGE    82  03-28-2023  33.679683   \n1                                  CHECKERS 3299    75  03-28-2023  33.802508   \n2     WOODY'S CHEESESTEAKS @ SOUTHERN FEED STORE    90  03-28-2023  33.740018   \n3                            BUTECO COFFEE & BAR    90  03-28-2023  33.740018   \n4                                     WAFFLE BAR    96  03-28-2023  33.740018   \n...                                          ...   ...         ...        ...   \n4386                              Salt and Block   100  06-17-2020  33.934143   \n4387                                        Rina    91  06-11-2020  33.772659   \n4388                            Church's Chicken    81  06-04-2020  33.772831   \n4389                         Boston Fish Supreme    92  05-11-2020  33.746267   \n4390                                 Sahara Cafe   100  04-29-2020  33.871847   \n\n            lng                     place_id  \\\n0    -84.225939  ChIJ_VJqwyCr9YgRqi3SpD0y_D4   \n1    -84.194184  ChIJI1XSV9Co9YgRTaCjP9meAGU   \n2    -84.346687  ChIJf_mTH24B9YgRakzoS_Ul8PY   \n3    -84.346687  ChIJFTylmyQB9YgRoqYQtN0zT_w   \n4    -84.346687  ChIJK9uF2ncB9YgR9OYM7wwSMhM   \n...         ...                          ...   \n4386 -84.359589  ChIJmZvS9akO9YgRzttitW3oTwU   \n4387 -84.364304  ChIJf4qwAK4F9YgRVupJKoORNMc   \n4388 -84.415690  ChIJzaE75HAb9YgRBRlaqDNx2lM   \n4389 -84.405973  ChIJ59NmO3AD9YgRJsL3BTxHUVk   \n4390 -84.380530  ChIJQUU4JJEP9YgR_JBd6sT5yrg   \n\n                                                  types  \n0                                             [premise]  \n1     [establishment, food, point_of_interest, resta...  \n2     [establishment, food, point_of_interest, resta...  \n3               [bar, establishment, point_of_interest]  \n4     [establishment, food, point_of_interest, resta...  \n...                                                 ...  \n4386  [cafe, establishment, food, point_of_interest,...  \n4387  [establishment, food, point_of_interest, resta...  \n4388  [establishment, food, point_of_interest, resta...  \n4389  [establishment, food, point_of_interest, resta...  \n4390  [establishment, food, point_of_interest, resta...  \n\n[4391 rows x 21 columns]",
      "text/html": "<div>\n<style scoped>\n    .dataframe tbody tr th:only-of-type {\n        vertical-align: middle;\n    }\n\n    .dataframe tbody tr th {\n        vertical-align: top;\n    }\n\n    .dataframe thead th {\n        text-align: right;\n    }\n</style>\n<table border=\"1\" class=\"dataframe\">\n  <thead>\n    <tr style=\"text-align: right;\">\n      <th></th>\n      <th>dph_id</th>\n      <th>yelp_id</th>\n      <th>rating</th>\n      <th>review_count</th>\n      <th>img_url</th>\n      <th>yelp_name</th>\n      <th>price</th>\n      <th>violations</th>\n      <th>years_data</th>\n      <th>lifetime_count</th>\n      <th>...</th>\n      <th>lifetime_avg</th>\n      <th>violation_rate</th>\n      <th>map_add</th>\n      <th>name</th>\n      <th>score</th>\n      <th>date</th>\n      <th>lat</th>\n      <th>lng</th>\n      <th>place_id</th>\n      <th>types</th>\n    </tr>\n  </thead>\n  <tbody>\n    <tr>\n      <th>0</th>\n      <td>MTIzMDIzODE=</td>\n      <td>u_irrlZiHMa7ueeUHqHtvA</td>\n      <td>2.5</td>\n      <td>26</td>\n      <td>https://s3-media4.fl.yelpcdn.com/bphoto/xcsf4Y...</td>\n      <td>The Spot Sports Bar And Grill</td>\n      <td>0</td>\n      <td>[6-1B, 12B, 13A, 18, 4-2B, 4-2B, 6-1A, 6-1B, 1...</td>\n      <td>2.276712</td>\n      <td>15</td>\n      <td>...</td>\n      <td>82.666667</td>\n      <td>6.588448</td>\n      <td>4975 FLAT SHOALS PKWY, DECATUR, GA 30034</td>\n      <td>THE SPOT SPORTS BAR AND LOUNGE</td>\n      <td>82</td>\n      <td>03-28-2023</td>\n      <td>33.679683</td>\n      <td>-84.225939</td>\n      <td>ChIJ_VJqwyCr9YgRqi3SpD0y_D4</td>\n      <td>[premise]</td>\n    </tr>\n    <tr>\n      <th>1</th>\n      <td>MTIzMDI4MTI=</td>\n      <td>39r2fM5P8heVXlLgYkmSaA</td>\n      <td>1.5</td>\n      <td>28</td>\n      <td>https://s3-media4.fl.yelpcdn.com/bphoto/eqdMzy...</td>\n      <td>Checkers</td>\n      <td>1</td>\n      <td>[2-2D, 2-2D, 4-2B, 6-1A, 15A, 15C, 17C, 18, 18...</td>\n      <td>2.027397</td>\n      <td>29</td>\n      <td>...</td>\n      <td>84.000000</td>\n      <td>14.304054</td>\n      <td>6000 MEMORIAL DR, STONE MOUNTAIN, GA 30083</td>\n      <td>CHECKERS 3299</td>\n      <td>75</td>\n      <td>03-28-2023</td>\n      <td>33.802508</td>\n      <td>-84.194184</td>\n      <td>ChIJI1XSV9Co9YgRTaCjP9meAGU</td>\n      <td>[establishment, food, point_of_interest, resta...</td>\n    </tr>\n    <tr>\n      <th>2</th>\n      <td>MTI3NzEzMjA=</td>\n      <td>QjL9fgvhsJta7SSX7P8YMw</td>\n      <td>3.5</td>\n      <td>20</td>\n      <td>https://s3-media4.fl.yelpcdn.com/bphoto/H9KSBt...</td>\n      <td>Woody's Cheesesteaks</td>\n      <td>0</td>\n      <td>[2-2D, 2-2D, 11A, 18, 6-1A, 14B]</td>\n      <td>1.276712</td>\n      <td>6</td>\n      <td>...</td>\n      <td>93.333333</td>\n      <td>4.699571</td>\n      <td>1245 GLENWOOD AVE BOOTH 6, ATLANTA, GA 30316</td>\n      <td>WOODY'S CHEESESTEAKS @ SOUTHERN FEED STORE</td>\n      <td>90</td>\n      <td>03-28-2023</td>\n      <td>33.740018</td>\n      <td>-84.346687</td>\n      <td>ChIJf_mTH24B9YgRakzoS_Ul8PY</td>\n      <td>[establishment, food, point_of_interest, resta...</td>\n    </tr>\n    <tr>\n      <th>3</th>\n      <td>MTI3NzE5MzM=</td>\n      <td>c2Ta5My44Uz4tT_jrq6u5w</td>\n      <td>5.0</td>\n      <td>2</td>\n      <td>https://s3-media2.fl.yelpcdn.com/bphoto/nx4wvS...</td>\n      <td>Buteco EAV</td>\n      <td>0</td>\n      <td>[2-2D, 4-2A, 2-1B, 2-2D, 12B, 12B]</td>\n      <td>1.276712</td>\n      <td>6</td>\n      <td>...</td>\n      <td>91.333333</td>\n      <td>4.699571</td>\n      <td>1245 GLENWOOD AVE BOOTH 5, ATLANTA, GA 30316</td>\n      <td>BUTECO COFFEE &amp; BAR</td>\n      <td>90</td>\n      <td>03-28-2023</td>\n      <td>33.740018</td>\n      <td>-84.346687</td>\n      <td>ChIJFTylmyQB9YgRoqYQtN0zT_w</td>\n      <td>[bar, establishment, point_of_interest]</td>\n    </tr>\n    <tr>\n      <th>4</th>\n      <td>MTI3NzIwOTA=</td>\n      <td>lhxEztxsao9WfyfWuSpJfw</td>\n      <td>4.0</td>\n      <td>23</td>\n      <td>https://s3-media1.fl.yelpcdn.com/bphoto/vWOLn5...</td>\n      <td>Waffle Bar</td>\n      <td>0</td>\n      <td>[2-2E, 8-2B, 17D]</td>\n      <td>1.276712</td>\n      <td>3</td>\n      <td>...</td>\n      <td>97.000000</td>\n      <td>2.349785</td>\n      <td>1245 GLENWOOD AVE, ATLANTA, GA 30316</td>\n      <td>WAFFLE BAR</td>\n      <td>96</td>\n      <td>03-28-2023</td>\n      <td>33.740018</td>\n      <td>-84.346687</td>\n      <td>ChIJK9uF2ncB9YgR9OYM7wwSMhM</td>\n      <td>[establishment, food, point_of_interest, resta...</td>\n    </tr>\n    <tr>\n      <th>...</th>\n      <td>...</td>\n      <td>...</td>\n      <td>...</td>\n      <td>...</td>\n      <td>...</td>\n      <td>...</td>\n      <td>...</td>\n      <td>...</td>\n      <td>...</td>\n      <td>...</td>\n      <td>...</td>\n      <td>...</td>\n      <td>...</td>\n      <td>...</td>\n      <td>...</td>\n      <td>...</td>\n      <td>...</td>\n      <td>...</td>\n      <td>...</td>\n      <td>...</td>\n      <td>...</td>\n    </tr>\n    <tr>\n      <th>4386</th>\n      <td>Nzk1Mzg0NQ==</td>\n      <td>iJ1vqcHFhDSR-vunw7np-w</td>\n      <td>4.0</td>\n      <td>8</td>\n      <td>https://s3-media1.fl.yelpcdn.com/bphoto/ZaelGz...</td>\n      <td>Salt + Block</td>\n      <td>1</td>\n      <td>[]</td>\n      <td>0.000000</td>\n      <td>0</td>\n      <td>...</td>\n      <td>100.000000</td>\n      <td>0.000000</td>\n      <td>1 GLENLAKE PKWY, ATLANTA, GA 30328</td>\n      <td>Salt and Block</td>\n      <td>100</td>\n      <td>06-17-2020</td>\n      <td>33.934143</td>\n      <td>-84.359589</td>\n      <td>ChIJmZvS9akO9YgRzttitW3oTwU</td>\n      <td>[cafe, establishment, food, point_of_interest,...</td>\n    </tr>\n    <tr>\n      <th>4387</th>\n      <td>OTQ4NDkzOQ==</td>\n      <td>g0KkQmGXCtxkzHWoYEQa4A</td>\n      <td>4.5</td>\n      <td>203</td>\n      <td>https://s3-media2.fl.yelpcdn.com/bphoto/ZXKglF...</td>\n      <td>Rina</td>\n      <td>2</td>\n      <td>[2-2B, 6-2, 6-2, 14A]</td>\n      <td>0.000000</td>\n      <td>4</td>\n      <td>...</td>\n      <td>91.000000</td>\n      <td>4.000000</td>\n      <td>699 PONCE DE LEON AVE NE, ATLANTA, GA 30308</td>\n      <td>Rina</td>\n      <td>91</td>\n      <td>06-11-2020</td>\n      <td>33.772659</td>\n      <td>-84.364304</td>\n      <td>ChIJf4qwAK4F9YgRVupJKoORNMc</td>\n      <td>[establishment, food, point_of_interest, resta...</td>\n    </tr>\n    <tr>\n      <th>4388</th>\n      <td>ODg2NDA0</td>\n      <td>RE8bmfnqfcYEpbUHo3dYVQ</td>\n      <td>3.0</td>\n      <td>10</td>\n      <td>https://s3-media3.fl.yelpcdn.com/bphoto/U-CJhb...</td>\n      <td>Church's Chicken</td>\n      <td>1</td>\n      <td>[4-2B, 6-1B, 15C, 17C, 18]</td>\n      <td>0.000000</td>\n      <td>5</td>\n      <td>...</td>\n      <td>81.000000</td>\n      <td>5.000000</td>\n      <td>860 BANKHEAD HWY, ATLANTA, GA 30318</td>\n      <td>Church's Chicken</td>\n      <td>81</td>\n      <td>06-04-2020</td>\n      <td>33.772831</td>\n      <td>-84.415690</td>\n      <td>ChIJzaE75HAb9YgRBRlaqDNx2lM</td>\n      <td>[establishment, food, point_of_interest, resta...</td>\n    </tr>\n    <tr>\n      <th>4389</th>\n      <td>Nzk1NjQzMw==</td>\n      <td>t4M0yOSVLz59H7JQi3FUSQ</td>\n      <td>3.5</td>\n      <td>12</td>\n      <td>https://s3-media2.fl.yelpcdn.com/bphoto/YgKepQ...</td>\n      <td>Boston Fish Supreme</td>\n      <td>1</td>\n      <td>[2-2D, 11C, 17D]</td>\n      <td>0.000000</td>\n      <td>3</td>\n      <td>...</td>\n      <td>92.000000</td>\n      <td>3.000000</td>\n      <td>296 NORTHSIDE DR SE STE B, ATLANTA, GA 30315</td>\n      <td>Boston Fish Supreme</td>\n      <td>92</td>\n      <td>05-11-2020</td>\n      <td>33.746267</td>\n      <td>-84.405973</td>\n      <td>ChIJ59NmO3AD9YgRJsL3BTxHUVk</td>\n      <td>[establishment, food, point_of_interest, resta...</td>\n    </tr>\n    <tr>\n      <th>4390</th>\n      <td>MTIyNzQwOTg=</td>\n      <td>WN4j8Bgc4Xex-HVIxPIi3w</td>\n      <td>5.0</td>\n      <td>116</td>\n      <td>https://s3-media3.fl.yelpcdn.com/bphoto/eUWGkz...</td>\n      <td>Sahara Cafe</td>\n      <td>0</td>\n      <td>[]</td>\n      <td>0.000000</td>\n      <td>0</td>\n      <td>...</td>\n      <td>100.000000</td>\n      <td>0.000000</td>\n      <td>4285 ROSWELL RD STE 6, ATLANTA, GA 30342</td>\n      <td>Sahara Cafe</td>\n      <td>100</td>\n      <td>04-29-2020</td>\n      <td>33.871847</td>\n      <td>-84.380530</td>\n      <td>ChIJQUU4JJEP9YgR_JBd6sT5yrg</td>\n      <td>[establishment, food, point_of_interest, resta...</td>\n    </tr>\n  </tbody>\n</table>\n<p>4391 rows × 21 columns</p>\n</div>"
     },
     "execution_count": 86,
     "metadata": {},
     "output_type": "execute_result"
    }
   ],
   "source": [
    "yelp_merged_df = yelp_df.merge(df2, how='inner', on='dph_id')\n",
    "yelp_merged_df.to_pickle('final_yelpd_df.pkl')\n",
    "yelp_merged_df"
   ],
   "metadata": {
    "collapsed": false,
    "ExecuteTime": {
     "start_time": "2023-04-08T12:33:20.565330Z",
     "end_time": "2023-04-08T12:33:20.608404Z"
    }
   }
  }
 ],
 "metadata": {
  "kernelspec": {
   "display_name": "Python 3",
   "language": "python",
   "name": "python3"
  },
  "language_info": {
   "codemirror_mode": {
    "name": "ipython",
    "version": 2
   },
   "file_extension": ".py",
   "mimetype": "text/x-python",
   "name": "python",
   "nbconvert_exporter": "python",
   "pygments_lexer": "ipython2",
   "version": "2.7.6"
  }
 },
 "nbformat": 4,
 "nbformat_minor": 0
}
