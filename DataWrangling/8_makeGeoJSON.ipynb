{
 "cells": [
  {
   "cell_type": "markdown",
   "source": [
    "# Make GeoJSON\n",
    "This notebook takes in the output of our data exploration, and compiles it to a GeoJSON, which leaflet can plot"
   ],
   "metadata": {
    "collapsed": false
   }
  },
  {
   "cell_type": "code",
   "execution_count": 10,
   "outputs": [],
   "source": [
    "import pandas as pd\n",
    "import json\n",
    "survivors = pd.read_pickle('final_dataset_w_yelp.pkl')"
   ],
   "metadata": {
    "collapsed": false,
    "ExecuteTime": {
     "start_time": "2023-04-04T05:08:45.316335Z",
     "end_time": "2023-04-04T05:08:45.359590Z"
    }
   }
  },
  {
   "cell_type": "markdown",
   "source": [
    "##  Feature Collection\n",
    "We wish to have the following schema for GeoJSON Feature Collections:\n",
    "```\n",
    "{\n",
    "    'type':'FeatureCollection',\n",
    "    'features':[{\n",
    "        'type': 'Feature'\n",
    "        'geometry': {'type':'Point', 'coordinates':[lat, long]}\n",
    "        'properties': {'prop1':val, ...}\n",
    "    }...]\n",
    "}\n",
    "```"
   ],
   "metadata": {
    "collapsed": false
   }
  },
  {
   "cell_type": "code",
   "execution_count": null,
   "outputs": [],
   "source": [
    "def row2feat(row):\n",
    "    feat = {\n",
    "        'type': 'Feature',\n",
    "        'geometry': {'type': 'Point', 'coordinates': [row['lng'], row['lat']]},\n",
    "        'properties': {\n",
    "            'score': row['score'],\n",
    "            'date': row['date'],\n",
    "            'violation_rate': row['violation_rate'],\n",
    "            'lifetime_count': row['lifetime_count'],\n",
    "            'lifetime_avg': row['lifetime_avg'],\n",
    "            'rating': row['rating'],\n",
    "            'review_count': row['review_count'],\n",
    "            'years_data': row['years_data'],\n",
    "            'pests': row['pests'],\n",
    "            'personnel': row['personnel'],\n",
    "            'sanitation': row['sanitation'],\n",
    "            'temperature': row['temperature'],\n",
    "            'hazard': row['hazard'],\n",
    "            'img_url': row['img_url'],\n",
    "            'name': row['name'],\n",
    "            'addr': row['map_add'],\n",
    "            'id': row['dph_id']\n",
    "        }\n",
    "    }\n",
    "    return feat\n",
    "\n",
    "# Get dataframe into json\n",
    "features = []\n",
    "for index, row in survivors.iterrows():\n",
    "    features.append(row2feat(row))\n",
    "\n",
    "geoJSON = {\n",
    "    'type': 'FeatureCollection',\n",
    "    'features': features\n",
    "}\n",
    "\n",
    "with open('final_collection.json', 'w') as f:\n",
    "    json.dump(geoJSON, f)"
   ],
   "metadata": {
    "collapsed": false
   }
  }
 ],
 "metadata": {
  "kernelspec": {
   "display_name": "Python 3",
   "language": "python",
   "name": "python3"
  },
  "language_info": {
   "codemirror_mode": {
    "name": "ipython",
    "version": 2
   },
   "file_extension": ".py",
   "mimetype": "text/x-python",
   "name": "python",
   "nbconvert_exporter": "python",
   "pygments_lexer": "ipython2",
   "version": "2.7.6"
  }
 },
 "nbformat": 4,
 "nbformat_minor": 0
}
