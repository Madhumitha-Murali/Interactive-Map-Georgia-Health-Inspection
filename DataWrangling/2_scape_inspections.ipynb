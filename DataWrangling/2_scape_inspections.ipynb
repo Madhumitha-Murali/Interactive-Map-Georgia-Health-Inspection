{
 "cells": [
  {
   "cell_type": "markdown",
   "source": [
    "# Scrape Inspection Details\n",
    "This notebook obtains the inspection details for each entity"
   ],
   "metadata": {
    "collapsed": false
   }
  },
  {
   "cell_type": "code",
   "execution_count": 11,
   "outputs": [
    {
     "data": {
      "text/plain": "            dph_id                                            map_add  \\\n0     MTIyOTQyMTA=                     175 MEAD RD, DECATUR, GA 30030   \n1     MTIyOTQyOTM=             3100 MOUNT OLIVE DR, DECATUR, GA 30033   \n2     MTIyOTk3MzY=        5330 SNAPFINGER WOODS DR, DECATUR, GA 30035   \n3     MTIyOTk4MjU=   1707 CHURCH STREET, SUITE C-7, DECATUR, GA 30033   \n4     MTIzMDEzMzc=  4306 LAWRENCEVILLE HIGHWAY, SUITE 140, TUCKER,...   \n...            ...                                                ...   \n7867  MzEzNjg1MQ==    299 NORTH HIGHLAND AVE STE F, ATLANTA, GA 30307   \n7868  OTQ5MjM3NQ==         730 BARNETT ST NE STE A, ATLANTA, GA 30306   \n7869  Nzk1NjQzMw==       296 NORTHSIDE DR SE STE B, ATLANTA, GA 30315   \n7870  Nzk1Mzc1MQ==             1005 CRESTLINE PKWY, ATLANTA, GA 30328   \n7871  MTIyNzQwOTg=           4285 ROSWELL RD STE 6, ATLANTA, GA 30342   \n\n                                                   name  score        date  \\\n0                            OAKHURST ELEMENTARY SCHOOL    100  03-28-2023   \n1                             DRUID HILLS MIDDLE SCHOOL    100  03-28-2023   \n2                        SPORTZ CENTER ACADEMY, INC FAK     90  03-28-2023   \n3               CHAT PATTI INDIAN VEGETARIAN RESTAURANT     91  03-28-2023   \n4                                             FIVE GUYS     97  03-28-2023   \n...                                                 ...    ...         ...   \n7867                                  Bread & Butterfly     99  05-28-2020   \n7868                       Plant Based Pizzeria- Mobile    100  05-12-2020   \n7869                                Boston Fish Supreme     92  05-11-2020   \n7870  SpringHill Suites By Marriott Atlanta Perimete...     99  05-08-2020   \n7871                                        Sahara Cafe    100  04-29-2020   \n\n                         place_id  \\\n0     ChIJRfrKdi4H9YgRwOiI0-YFgbI   \n1     ChIJI-EIKIsH9YgRtfevY250O74   \n2     ChIJc5eRemSs9YgRlfB8wal4mlQ   \n3     ChIJ8bIRYDkG9YgR7BY43mZj93Y   \n4     ChIJB4iT1T2m9YgRnW5VlvLqF_I   \n...                           ...   \n7867  ChIJHwhNYAEE9YgRCs-R7L-_uWI   \n7868  ChIJW31yfH8F9YgRdtbpWzsNBe0   \n7869  ChIJ59NmO3AD9YgRJsL3BTxHUVk   \n7870  ChIJM9VxgKwO9YgRyAdoKEnhMeU   \n7871  ChIJQUU4JJEP9YgR_JBd6sT5yrg   \n\n                                                  types  \n0     [establishment, point_of_interest, primary_sch...  \n1            [establishment, point_of_interest, school]  \n2                    [establishment, point_of_interest]  \n3     [establishment, food, point_of_interest, resta...  \n4     [establishment, food, meal_takeaway, point_of_...  \n...                                                 ...  \n7867  [cafe, establishment, food, point_of_interest,...  \n7868  [establishment, food, point_of_interest, resta...  \n7869  [establishment, food, point_of_interest, resta...  \n7870        [establishment, lodging, point_of_interest]  \n7871  [establishment, food, point_of_interest, resta...  \n\n[7872 rows x 7 columns]",
      "text/html": "<div>\n<style scoped>\n    .dataframe tbody tr th:only-of-type {\n        vertical-align: middle;\n    }\n\n    .dataframe tbody tr th {\n        vertical-align: top;\n    }\n\n    .dataframe thead th {\n        text-align: right;\n    }\n</style>\n<table border=\"1\" class=\"dataframe\">\n  <thead>\n    <tr style=\"text-align: right;\">\n      <th></th>\n      <th>dph_id</th>\n      <th>map_add</th>\n      <th>name</th>\n      <th>score</th>\n      <th>date</th>\n      <th>place_id</th>\n      <th>types</th>\n    </tr>\n  </thead>\n  <tbody>\n    <tr>\n      <th>0</th>\n      <td>MTIyOTQyMTA=</td>\n      <td>175 MEAD RD, DECATUR, GA 30030</td>\n      <td>OAKHURST ELEMENTARY SCHOOL</td>\n      <td>100</td>\n      <td>03-28-2023</td>\n      <td>ChIJRfrKdi4H9YgRwOiI0-YFgbI</td>\n      <td>[establishment, point_of_interest, primary_sch...</td>\n    </tr>\n    <tr>\n      <th>1</th>\n      <td>MTIyOTQyOTM=</td>\n      <td>3100 MOUNT OLIVE DR, DECATUR, GA 30033</td>\n      <td>DRUID HILLS MIDDLE SCHOOL</td>\n      <td>100</td>\n      <td>03-28-2023</td>\n      <td>ChIJI-EIKIsH9YgRtfevY250O74</td>\n      <td>[establishment, point_of_interest, school]</td>\n    </tr>\n    <tr>\n      <th>2</th>\n      <td>MTIyOTk3MzY=</td>\n      <td>5330 SNAPFINGER WOODS DR, DECATUR, GA 30035</td>\n      <td>SPORTZ CENTER ACADEMY, INC FAK</td>\n      <td>90</td>\n      <td>03-28-2023</td>\n      <td>ChIJc5eRemSs9YgRlfB8wal4mlQ</td>\n      <td>[establishment, point_of_interest]</td>\n    </tr>\n    <tr>\n      <th>3</th>\n      <td>MTIyOTk4MjU=</td>\n      <td>1707 CHURCH STREET, SUITE C-7, DECATUR, GA 30033</td>\n      <td>CHAT PATTI INDIAN VEGETARIAN RESTAURANT</td>\n      <td>91</td>\n      <td>03-28-2023</td>\n      <td>ChIJ8bIRYDkG9YgR7BY43mZj93Y</td>\n      <td>[establishment, food, point_of_interest, resta...</td>\n    </tr>\n    <tr>\n      <th>4</th>\n      <td>MTIzMDEzMzc=</td>\n      <td>4306 LAWRENCEVILLE HIGHWAY, SUITE 140, TUCKER,...</td>\n      <td>FIVE GUYS</td>\n      <td>97</td>\n      <td>03-28-2023</td>\n      <td>ChIJB4iT1T2m9YgRnW5VlvLqF_I</td>\n      <td>[establishment, food, meal_takeaway, point_of_...</td>\n    </tr>\n    <tr>\n      <th>...</th>\n      <td>...</td>\n      <td>...</td>\n      <td>...</td>\n      <td>...</td>\n      <td>...</td>\n      <td>...</td>\n      <td>...</td>\n    </tr>\n    <tr>\n      <th>7867</th>\n      <td>MzEzNjg1MQ==</td>\n      <td>299 NORTH HIGHLAND AVE STE F, ATLANTA, GA 30307</td>\n      <td>Bread &amp; Butterfly</td>\n      <td>99</td>\n      <td>05-28-2020</td>\n      <td>ChIJHwhNYAEE9YgRCs-R7L-_uWI</td>\n      <td>[cafe, establishment, food, point_of_interest,...</td>\n    </tr>\n    <tr>\n      <th>7868</th>\n      <td>OTQ5MjM3NQ==</td>\n      <td>730 BARNETT ST NE STE A, ATLANTA, GA 30306</td>\n      <td>Plant Based Pizzeria- Mobile</td>\n      <td>100</td>\n      <td>05-12-2020</td>\n      <td>ChIJW31yfH8F9YgRdtbpWzsNBe0</td>\n      <td>[establishment, food, point_of_interest, resta...</td>\n    </tr>\n    <tr>\n      <th>7869</th>\n      <td>Nzk1NjQzMw==</td>\n      <td>296 NORTHSIDE DR SE STE B, ATLANTA, GA 30315</td>\n      <td>Boston Fish Supreme</td>\n      <td>92</td>\n      <td>05-11-2020</td>\n      <td>ChIJ59NmO3AD9YgRJsL3BTxHUVk</td>\n      <td>[establishment, food, point_of_interest, resta...</td>\n    </tr>\n    <tr>\n      <th>7870</th>\n      <td>Nzk1Mzc1MQ==</td>\n      <td>1005 CRESTLINE PKWY, ATLANTA, GA 30328</td>\n      <td>SpringHill Suites By Marriott Atlanta Perimete...</td>\n      <td>99</td>\n      <td>05-08-2020</td>\n      <td>ChIJM9VxgKwO9YgRyAdoKEnhMeU</td>\n      <td>[establishment, lodging, point_of_interest]</td>\n    </tr>\n    <tr>\n      <th>7871</th>\n      <td>MTIyNzQwOTg=</td>\n      <td>4285 ROSWELL RD STE 6, ATLANTA, GA 30342</td>\n      <td>Sahara Cafe</td>\n      <td>100</td>\n      <td>04-29-2020</td>\n      <td>ChIJQUU4JJEP9YgR_JBd6sT5yrg</td>\n      <td>[establishment, food, point_of_interest, resta...</td>\n    </tr>\n  </tbody>\n</table>\n<p>7872 rows × 7 columns</p>\n</div>"
     },
     "execution_count": 11,
     "metadata": {},
     "output_type": "execute_result"
    }
   ],
   "source": [
    "import pandas as pd\n",
    "import requests\n",
    "from tqdm import tqdm\n",
    "import pickle\n",
    "\n",
    "df = pd.read_pickle('DPH_entities_df.pkl')\n",
    "df"
   ],
   "metadata": {
    "collapsed": false,
    "ExecuteTime": {
     "start_time": "2023-04-11T19:16:10.989471Z",
     "end_time": "2023-04-11T19:16:11.039580Z"
    }
   }
  },
  {
   "cell_type": "code",
   "execution_count": 6,
   "outputs": [
    {
     "name": "stderr",
     "output_type": "stream",
     "text": [
      "100%|██████████| 7872/7872 [32:59<00:00,  3.98it/s]  \n"
     ]
    }
   ],
   "source": [
    "extracted = []\n",
    "for ids in tqdm(df.dph_id.unique()):\n",
    "    try:\n",
    "        req_url = f'https://ga.healthinspections.us/stateofgeorgia/API/index.cfm/inspectionsData/{id}'\n",
    "        r = requests.get(req_url)\n",
    "        data = r.json()\n",
    "    except Exception as e:\n",
    "        print(e, ids)\n",
    "        data = None\n",
    "    d = {\n",
    "        'id': ids,\n",
    "        'data': data\n",
    "    }\n",
    "    extracted.append(d)\n",
    "\n",
    "# Save our hard-earned data (over an hour of scraping) to pickle\n",
    "with open('DPH_inspections_raw.pkl', 'wb') as pick:\n",
    "    pickle.dump(extracted, pick)\n"
   ],
   "metadata": {
    "collapsed": false,
    "ExecuteTime": {
     "start_time": "2023-04-03T16:12:11.291760Z",
     "end_time": "2023-04-03T16:45:10.599907Z"
    }
   }
  },
  {
   "cell_type": "markdown",
   "source": [
    "# DB Schema: inspections\n",
    "The following table saves inspection details on a per-inspection basis. (Each row is an inspection)\n",
    "- inspection_id: \\<int> primary key nullable=false\n",
    "- dph_entity: 'facilityID' \\<str> 64bit encoded nullable=false\n",
    "- date: \\<datetime> nullable=false\n",
    "- purpose: \\<str/categorical> nullable=false\n",
    "- score: \\<int> nullable=false\n",
    "- inspector: \\<str> nullable=false\n",
    "- printable_path: \\<str> nullable=false\n",
    "- volation_count: \\<int> nullable=false\n",
    "- volations: \\<list> nullable=true"
   ],
   "metadata": {
    "collapsed": false
   }
  },
  {
   "cell_type": "code",
   "execution_count": 45,
   "outputs": [
    {
     "name": "stdout",
     "output_type": "stream",
     "text": [
      "{'id': 'MTI3NjYyNzE=', 'data': [{'printablePath': '', 'inspectionId': 0, 'facilityId': 'MTI3NjYyNzE=', 'columns': {'0': 'No Inspections To Display'}, 'violations': {}}]}\n",
      "{'id': 'MTI3NzM0NzU=', 'data': [{'printablePath': '', 'inspectionId': 0, 'facilityId': 'MTI3NzM0NzU=', 'columns': {'0': 'No Inspections To Display'}, 'violations': {}}]}\n",
      "{'id': 'MTIyOTk3MzE=', 'data': [{'printablePath': '', 'inspectionId': 0, 'facilityId': 'MTIyOTk3MzE=', 'columns': {'0': 'No Inspections To Display'}, 'violations': {}}]}\n",
      "{'id': 'MTI3Njg4Nzk=', 'data': [{'printablePath': '', 'inspectionId': 0, 'facilityId': 'MTI3Njg4Nzk=', 'columns': {'0': 'No Inspections To Display'}, 'violations': {}}]}\n",
      "{'id': 'MTI5ODUzMDE=', 'data': [{'printablePath': '', 'inspectionId': 0, 'facilityId': 'MTI5ODUzMDE=', 'columns': {'0': 'No Inspections To Display'}, 'violations': {}}]}\n",
      "{'id': 'MTI5ODUzMDQ=', 'data': [{'printablePath': '', 'inspectionId': 0, 'facilityId': 'MTI5ODUzMDQ=', 'columns': {'0': 'No Inspections To Display'}, 'violations': {}}]}\n",
      "{'id': 'MTI5ODUzMDU=', 'data': [{'printablePath': '', 'inspectionId': 0, 'facilityId': 'MTI5ODUzMDU=', 'columns': {'0': 'No Inspections To Display'}, 'violations': {}}]}\n",
      "{'id': 'MTI5ODUzMDY=', 'data': [{'printablePath': '', 'inspectionId': 0, 'facilityId': 'MTI5ODUzMDY=', 'columns': {'0': 'No Inspections To Display'}, 'violations': {}}]}\n",
      "{'id': 'MTI5ODUzMDc=', 'data': [{'printablePath': '', 'inspectionId': 0, 'facilityId': 'MTI5ODUzMDc=', 'columns': {'0': 'No Inspections To Display'}, 'violations': {}}]}\n",
      "{'id': 'OTQ5MDA0Mw==', 'data': [{'printablePath': '', 'inspectionId': 0, 'facilityId': 'OTQ5MDA0Mw==', 'columns': {'0': 'No Inspections To Display'}, 'violations': {}}]}\n",
      "{'id': 'MTI3NjkxOTI=', 'data': [{'printablePath': '', 'inspectionId': 0, 'facilityId': 'MTI3NjkxOTI=', 'columns': {'0': 'No Inspections To Display'}, 'violations': {}}]}\n",
      "{'id': 'MTIyNzk3MDQ=', 'data': [{'printablePath': '', 'inspectionId': 0, 'facilityId': 'MTIyNzk3MDQ=', 'columns': {'0': 'No Inspections To Display'}, 'violations': {}}]}\n",
      "{'id': 'MTIyNzc5MTE=', 'data': [{'printablePath': '', 'inspectionId': 0, 'facilityId': 'MTIyNzc5MTE=', 'columns': {'0': 'No Inspections To Display'}, 'violations': {}}]}\n",
      "{'id': 'MTIyNzg2MDE=', 'data': [{'printablePath': '', 'inspectionId': 0, 'facilityId': 'MTIyNzg2MDE=', 'columns': {'0': 'No Inspections To Display'}, 'violations': {}}]}\n",
      "{'id': 'MzE0ODEzNA==', 'data': [{'printablePath': '', 'inspectionId': 0, 'facilityId': 'MzE0ODEzNA==', 'columns': {'0': 'No Inspections To Display'}, 'violations': {}}]}\n",
      "{'id': 'MTI3NjY0OTE=', 'data': [{'printablePath': '', 'inspectionId': 0, 'facilityId': 'MTI3NjY0OTE=', 'columns': {'0': 'No Inspections To Display'}, 'violations': {}}]}\n",
      "{'id': 'ODg5MzU2', 'data': [{'printablePath': '', 'inspectionId': 0, 'facilityId': 'ODg5MzU2', 'columns': {'0': 'No Inspections To Display'}, 'violations': {}}]}\n",
      "{'id': 'Nzk2MTU5Nw==', 'data': [{'printablePath': '', 'inspectionId': 0, 'facilityId': 'Nzk2MTU5Nw==', 'columns': {'0': 'No Inspections To Display'}, 'violations': {}}]}\n",
      "{'id': 'MzEzMDExMQ==', 'data': [{'printablePath': '', 'inspectionId': 0, 'facilityId': 'MzEzMDExMQ==', 'columns': {'0': 'No Inspections To Display'}, 'violations': {}}]}\n",
      "{'id': 'ODc1NTE4', 'data': [{'printablePath': '', 'inspectionId': 0, 'facilityId': 'ODc1NTE4', 'columns': {'0': 'No Inspections To Display'}, 'violations': {}}]}\n",
      "{'id': 'MzEyNzUwNg==', 'data': [{'printablePath': '', 'inspectionId': 0, 'facilityId': 'MzEyNzUwNg==', 'columns': {'0': 'No Inspections To Display'}, 'violations': {}}]}\n",
      "{'id': 'OTQ4NDM2NA==', 'data': [{'printablePath': '', 'inspectionId': 0, 'facilityId': 'OTQ4NDM2NA==', 'columns': {'0': 'No Inspections To Display'}, 'violations': {}}]}\n",
      "{'id': 'MTMyODc4Mw==', 'data': [{'printablePath': '', 'inspectionId': 0, 'facilityId': 'MTMyODc4Mw==', 'columns': {'0': 'No Inspections To Display'}, 'violations': {}}]}\n",
      "{'id': 'MzEzNzY2MQ==', 'data': [{'printablePath': '', 'inspectionId': 0, 'facilityId': 'MzEzNzY2MQ==', 'columns': {'0': 'No Inspections To Display'}, 'violations': {}}]}\n",
      "{'id': 'MTI3NjYwNjE=', 'data': [{'printablePath': '', 'inspectionId': 0, 'facilityId': 'MTI3NjYwNjE=', 'columns': {'0': 'No Inspections To Display'}, 'violations': {}}]}\n",
      "{'id': 'MzEzMTc1NQ==', 'data': [{'printablePath': '', 'inspectionId': 0, 'facilityId': 'MzEzMTc1NQ==', 'columns': {'0': 'No Inspections To Display'}, 'violations': {}}]}\n",
      "{'id': 'ODgzOTky', 'data': [{'printablePath': '', 'inspectionId': 0, 'facilityId': 'ODgzOTky', 'columns': {'0': 'No Inspections To Display'}, 'violations': {}}]}\n",
      "{'id': 'ODgwNzEz', 'data': [{'printablePath': '', 'inspectionId': 0, 'facilityId': 'ODgwNzEz', 'columns': {'0': 'No Inspections To Display'}, 'violations': {}}]}\n",
      "{'id': 'MzE0Nzk5MQ==', 'data': [{'printablePath': '', 'inspectionId': 0, 'facilityId': 'MzE0Nzk5MQ==', 'columns': {'0': 'No Inspections To Display'}, 'violations': {}}]}\n",
      "{'id': 'OTQ5MDMwMQ==', 'data': [{'printablePath': '', 'inspectionId': 0, 'facilityId': 'OTQ5MDMwMQ==', 'columns': {'0': 'No Inspections To Display'}, 'violations': {}}]}\n"
     ]
    }
   ],
   "source": [
    "from datetime import datetime\n",
    "\n",
    "rows = []\n",
    "for entity in extracted:\n",
    "    entity_id = entity['id']\n",
    "    entity_data = entity['data']\n",
    "    for inspection in entity_data:\n",
    "        inspection_data = inspection['columns']\n",
    "        inspection_id = inspection['inspectionId']\n",
    "        if inspection_id != 0:\n",
    "            violation_count = len(inspection['violations'])\n",
    "            violation_codes = []\n",
    "            inspector_notes = []\n",
    "            if violation_count > 0:\n",
    "                for k, v in inspection['violations'].items():\n",
    "                    violation_codes.append(v[0].split(' - ', 1)[0])\n",
    "                    inspector_notes.append(v[5].replace(\"Inspector Notes: \", ''))\n",
    "            try:\n",
    "                row = {\n",
    "                    'inspection_id': inspection_id,\n",
    "                    'dph_id': entity_id,\n",
    "                    'date': datetime.strptime(inspection_data['0'].replace(\"Date: \", ''), '%m-%d-%Y').date(),\n",
    "                    'purpose': inspection_data['1'].replace(\"Inspection Purpose: \", ''),\n",
    "                    'score': int(inspection_data['2'].replace(\"Score: \", '')),\n",
    "                    'inspector': inspection_data['3'].replace(\"Inspector: \", ''),\n",
    "                    'printable_path': inspection['printablePath'],\n",
    "                    'violation_count': violation_count,\n",
    "                    'violation_codes': violation_codes,\n",
    "                    'inspector_notes': inspector_notes\n",
    "                }\n",
    "            except Exception as e:\n",
    "                print(e, inspection, entity)\n",
    "                break\n",
    "            rows.append(row)\n",
    "        else:\n",
    "            print(entity)\n",
    "            # These entities don't have inspections on file (perhaps they're new?)\n",
    "\n",
    "df_inspections = pd.DataFrame.from_records(rows)\n",
    "# Merge with basic data from part 1.\n",
    "entity_ids = df[['dph_id', 'name']]\n",
    "m_df = df_inspections.merge(entity_ids, how='inner', on='dph_id')\n",
    "m_df.to_pickle('inspection_df.pkl')"
   ],
   "metadata": {
    "collapsed": false,
    "ExecuteTime": {
     "start_time": "2023-04-03T18:15:05.161599Z",
     "end_time": "2023-04-03T18:15:05.375811Z"
    }
   }
  },
  {
   "cell_type": "code",
   "execution_count": 18,
   "outputs": [
    {
     "data": {
      "text/plain": "       inspection_id        dph_id        date  purpose  score  \\\n0           57344281  MTIyOTQyMTA=  2023-03-28  Routine    100   \n1           57323814  MTIyOTQyMTA=  2022-11-04  Routine    100   \n2           57298579  MTIyOTQyMTA=  2022-04-21  Routine    100   \n3           57269737  MTIyOTQyMTA=  2021-08-23  Routine     89   \n4           57344379  MTIyOTQyOTM=  2023-03-28  Routine    100   \n...              ...           ...         ...      ...    ...   \n18959       56760259  MzEzNjg1MQ==  2020-05-28  Routine     99   \n18960       56759669  OTQ5MjM3NQ==  2020-05-12  Routine    100   \n18961       56759654  Nzk1NjQzMw==  2020-05-11  Routine     92   \n18962       56759650  Nzk1Mzc1MQ==  2020-05-08  Routine     99   \n18963       56759476  MTIyNzQwOTg=  2020-04-29  Initial    100   \n\n                inspector                                     printable_path  \\\n0          Alaina Mauldin  ../../_templates/87/food_2015/_report_full.cfm...   \n1             Mariam Musa  ../../_templates/87/food_2015/_report_full.cfm...   \n2             Mariam Musa  ../../_templates/87/food_2015/_report_full.cfm...   \n3             Mariam Musa  ../../_templates/87/food_2015/_report_full.cfm...   \n4           Carley Rhoden  ../../_templates/87/food_2015/_report_full.cfm...   \n...                   ...                                                ...   \n18959         Bresa Daise  ../../_templates/87/food_2015/_report_full.cfm...   \n18960         Bresa Daise  ../../_templates/87/food_2015/_report_full.cfm...   \n18961  shirleyas chambers  ../../_templates/87/food_2015/_report_full.cfm...   \n18962    Richard Campbell  ../../_templates/87/food_2015/_report_full.cfm...   \n18963         Katie Logan  ../../_templates/87/food_2015/_report_full.cfm...   \n\n       violation_count   violation_codes  \\\n0                    0                []   \n1                    0                []   \n2                    0                []   \n3                    1            [6-1A]   \n4                    0                []   \n...                ...               ...   \n18959                1             [17D]   \n18960                0                []   \n18961                3  [2-2D, 11C, 17D]   \n18962                2        [17C, 17D]   \n18963                0                []   \n\n                                         inspector_notes  \n0                                                     []  \n1                                                     []  \n2                                                     []  \n3      [Observed TCS food item (diced tomatoes) not c...  \n4                                                     []  \n...                                                  ...  \n18959  [Observed JBL speaker on prep top table. All e...  \n18960                                                 []  \n18961  [At the time of inspection, observed no handso...  \n18962  [Ceiling not smooth and easily cleanable., Obs...  \n18963                                                 []  \n\n[18964 rows x 10 columns]",
      "text/html": "<div>\n<style scoped>\n    .dataframe tbody tr th:only-of-type {\n        vertical-align: middle;\n    }\n\n    .dataframe tbody tr th {\n        vertical-align: top;\n    }\n\n    .dataframe thead th {\n        text-align: right;\n    }\n</style>\n<table border=\"1\" class=\"dataframe\">\n  <thead>\n    <tr style=\"text-align: right;\">\n      <th></th>\n      <th>inspection_id</th>\n      <th>dph_id</th>\n      <th>date</th>\n      <th>purpose</th>\n      <th>score</th>\n      <th>inspector</th>\n      <th>printable_path</th>\n      <th>violation_count</th>\n      <th>violation_codes</th>\n      <th>inspector_notes</th>\n    </tr>\n  </thead>\n  <tbody>\n    <tr>\n      <th>0</th>\n      <td>57344281</td>\n      <td>MTIyOTQyMTA=</td>\n      <td>2023-03-28</td>\n      <td>Routine</td>\n      <td>100</td>\n      <td>Alaina Mauldin</td>\n      <td>../../_templates/87/food_2015/_report_full.cfm...</td>\n      <td>0</td>\n      <td>[]</td>\n      <td>[]</td>\n    </tr>\n    <tr>\n      <th>1</th>\n      <td>57323814</td>\n      <td>MTIyOTQyMTA=</td>\n      <td>2022-11-04</td>\n      <td>Routine</td>\n      <td>100</td>\n      <td>Mariam Musa</td>\n      <td>../../_templates/87/food_2015/_report_full.cfm...</td>\n      <td>0</td>\n      <td>[]</td>\n      <td>[]</td>\n    </tr>\n    <tr>\n      <th>2</th>\n      <td>57298579</td>\n      <td>MTIyOTQyMTA=</td>\n      <td>2022-04-21</td>\n      <td>Routine</td>\n      <td>100</td>\n      <td>Mariam Musa</td>\n      <td>../../_templates/87/food_2015/_report_full.cfm...</td>\n      <td>0</td>\n      <td>[]</td>\n      <td>[]</td>\n    </tr>\n    <tr>\n      <th>3</th>\n      <td>57269737</td>\n      <td>MTIyOTQyMTA=</td>\n      <td>2021-08-23</td>\n      <td>Routine</td>\n      <td>89</td>\n      <td>Mariam Musa</td>\n      <td>../../_templates/87/food_2015/_report_full.cfm...</td>\n      <td>1</td>\n      <td>[6-1A]</td>\n      <td>[Observed TCS food item (diced tomatoes) not c...</td>\n    </tr>\n    <tr>\n      <th>4</th>\n      <td>57344379</td>\n      <td>MTIyOTQyOTM=</td>\n      <td>2023-03-28</td>\n      <td>Routine</td>\n      <td>100</td>\n      <td>Carley Rhoden</td>\n      <td>../../_templates/87/food_2015/_report_full.cfm...</td>\n      <td>0</td>\n      <td>[]</td>\n      <td>[]</td>\n    </tr>\n    <tr>\n      <th>...</th>\n      <td>...</td>\n      <td>...</td>\n      <td>...</td>\n      <td>...</td>\n      <td>...</td>\n      <td>...</td>\n      <td>...</td>\n      <td>...</td>\n      <td>...</td>\n      <td>...</td>\n    </tr>\n    <tr>\n      <th>18959</th>\n      <td>56760259</td>\n      <td>MzEzNjg1MQ==</td>\n      <td>2020-05-28</td>\n      <td>Routine</td>\n      <td>99</td>\n      <td>Bresa Daise</td>\n      <td>../../_templates/87/food_2015/_report_full.cfm...</td>\n      <td>1</td>\n      <td>[17D]</td>\n      <td>[Observed JBL speaker on prep top table. All e...</td>\n    </tr>\n    <tr>\n      <th>18960</th>\n      <td>56759669</td>\n      <td>OTQ5MjM3NQ==</td>\n      <td>2020-05-12</td>\n      <td>Routine</td>\n      <td>100</td>\n      <td>Bresa Daise</td>\n      <td>../../_templates/87/food_2015/_report_full.cfm...</td>\n      <td>0</td>\n      <td>[]</td>\n      <td>[]</td>\n    </tr>\n    <tr>\n      <th>18961</th>\n      <td>56759654</td>\n      <td>Nzk1NjQzMw==</td>\n      <td>2020-05-11</td>\n      <td>Routine</td>\n      <td>92</td>\n      <td>shirleyas chambers</td>\n      <td>../../_templates/87/food_2015/_report_full.cfm...</td>\n      <td>3</td>\n      <td>[2-2D, 11C, 17D]</td>\n      <td>[At the time of inspection, observed no handso...</td>\n    </tr>\n    <tr>\n      <th>18962</th>\n      <td>56759650</td>\n      <td>Nzk1Mzc1MQ==</td>\n      <td>2020-05-08</td>\n      <td>Routine</td>\n      <td>99</td>\n      <td>Richard Campbell</td>\n      <td>../../_templates/87/food_2015/_report_full.cfm...</td>\n      <td>2</td>\n      <td>[17C, 17D]</td>\n      <td>[Ceiling not smooth and easily cleanable., Obs...</td>\n    </tr>\n    <tr>\n      <th>18963</th>\n      <td>56759476</td>\n      <td>MTIyNzQwOTg=</td>\n      <td>2020-04-29</td>\n      <td>Initial</td>\n      <td>100</td>\n      <td>Katie Logan</td>\n      <td>../../_templates/87/food_2015/_report_full.cfm...</td>\n      <td>0</td>\n      <td>[]</td>\n      <td>[]</td>\n    </tr>\n  </tbody>\n</table>\n<p>18964 rows × 10 columns</p>\n</div>"
     },
     "execution_count": 18,
     "metadata": {},
     "output_type": "execute_result"
    }
   ],
   "source": [
    "m_df"
   ],
   "metadata": {
    "collapsed": false,
    "ExecuteTime": {
     "start_time": "2023-04-11T19:22:47.115614Z",
     "end_time": "2023-04-11T19:22:47.309388Z"
    }
   }
  },
  {
   "cell_type": "markdown",
   "source": [],
   "metadata": {
    "collapsed": false
   }
  },
  {
   "cell_type": "markdown",
   "source": [
    "# DB Schema: Violations\n",
    "The following table saves inspection details on a per-violation basis (each row is a specific violation). In theory,\n",
    "this will allow every kind of query/aggregation.\n",
    "- violation_id: \\<index>\n",
    "- inpsection_id: \\<int>\n",
    "- facility_id: \\<str>\n",
    "- violation_desc: \\<str>\n",
    "- points: \\<int>\n",
    "- corrected: \\<bool>\n",
    "- repeat: \\<bool>\n",
    "- notes: \\<str>"
   ],
   "metadata": {
    "collapsed": false
   }
  },
  {
   "cell_type": "code",
   "execution_count": 68,
   "outputs": [
    {
     "name": "stdout",
     "output_type": "stream",
     "text": [
      "{'id': 'MTI3NjYyNzE=', 'data': [{'printablePath': '', 'inspectionId': 0, 'facilityId': 'MTI3NjYyNzE=', 'columns': {'0': 'No Inspections To Display'}, 'violations': {}}]}\n",
      "{'id': 'MTI3NzM0NzU=', 'data': [{'printablePath': '', 'inspectionId': 0, 'facilityId': 'MTI3NzM0NzU=', 'columns': {'0': 'No Inspections To Display'}, 'violations': {}}]}\n",
      "{'id': 'MTIyOTk3MzE=', 'data': [{'printablePath': '', 'inspectionId': 0, 'facilityId': 'MTIyOTk3MzE=', 'columns': {'0': 'No Inspections To Display'}, 'violations': {}}]}\n",
      "{'id': 'MTI3Njg4Nzk=', 'data': [{'printablePath': '', 'inspectionId': 0, 'facilityId': 'MTI3Njg4Nzk=', 'columns': {'0': 'No Inspections To Display'}, 'violations': {}}]}\n",
      "{'id': 'MTI5ODUzMDE=', 'data': [{'printablePath': '', 'inspectionId': 0, 'facilityId': 'MTI5ODUzMDE=', 'columns': {'0': 'No Inspections To Display'}, 'violations': {}}]}\n",
      "{'id': 'MTI5ODUzMDQ=', 'data': [{'printablePath': '', 'inspectionId': 0, 'facilityId': 'MTI5ODUzMDQ=', 'columns': {'0': 'No Inspections To Display'}, 'violations': {}}]}\n",
      "{'id': 'MTI5ODUzMDU=', 'data': [{'printablePath': '', 'inspectionId': 0, 'facilityId': 'MTI5ODUzMDU=', 'columns': {'0': 'No Inspections To Display'}, 'violations': {}}]}\n",
      "{'id': 'MTI5ODUzMDY=', 'data': [{'printablePath': '', 'inspectionId': 0, 'facilityId': 'MTI5ODUzMDY=', 'columns': {'0': 'No Inspections To Display'}, 'violations': {}}]}\n",
      "{'id': 'MTI5ODUzMDc=', 'data': [{'printablePath': '', 'inspectionId': 0, 'facilityId': 'MTI5ODUzMDc=', 'columns': {'0': 'No Inspections To Display'}, 'violations': {}}]}\n",
      "{'id': 'OTQ5MDA0Mw==', 'data': [{'printablePath': '', 'inspectionId': 0, 'facilityId': 'OTQ5MDA0Mw==', 'columns': {'0': 'No Inspections To Display'}, 'violations': {}}]}\n",
      "{'id': 'MTI3NjkxOTI=', 'data': [{'printablePath': '', 'inspectionId': 0, 'facilityId': 'MTI3NjkxOTI=', 'columns': {'0': 'No Inspections To Display'}, 'violations': {}}]}\n",
      "{'id': 'MTIyNzk3MDQ=', 'data': [{'printablePath': '', 'inspectionId': 0, 'facilityId': 'MTIyNzk3MDQ=', 'columns': {'0': 'No Inspections To Display'}, 'violations': {}}]}\n",
      "{'id': 'MTIyNzc5MTE=', 'data': [{'printablePath': '', 'inspectionId': 0, 'facilityId': 'MTIyNzc5MTE=', 'columns': {'0': 'No Inspections To Display'}, 'violations': {}}]}\n",
      "{'id': 'MTIyNzg2MDE=', 'data': [{'printablePath': '', 'inspectionId': 0, 'facilityId': 'MTIyNzg2MDE=', 'columns': {'0': 'No Inspections To Display'}, 'violations': {}}]}\n",
      "{'id': 'MzE0ODEzNA==', 'data': [{'printablePath': '', 'inspectionId': 0, 'facilityId': 'MzE0ODEzNA==', 'columns': {'0': 'No Inspections To Display'}, 'violations': {}}]}\n",
      "{'id': 'MTI3NjY0OTE=', 'data': [{'printablePath': '', 'inspectionId': 0, 'facilityId': 'MTI3NjY0OTE=', 'columns': {'0': 'No Inspections To Display'}, 'violations': {}}]}\n",
      "{'id': 'ODg5MzU2', 'data': [{'printablePath': '', 'inspectionId': 0, 'facilityId': 'ODg5MzU2', 'columns': {'0': 'No Inspections To Display'}, 'violations': {}}]}\n",
      "{'id': 'Nzk2MTU5Nw==', 'data': [{'printablePath': '', 'inspectionId': 0, 'facilityId': 'Nzk2MTU5Nw==', 'columns': {'0': 'No Inspections To Display'}, 'violations': {}}]}\n",
      "{'id': 'MzEzMDExMQ==', 'data': [{'printablePath': '', 'inspectionId': 0, 'facilityId': 'MzEzMDExMQ==', 'columns': {'0': 'No Inspections To Display'}, 'violations': {}}]}\n",
      "{'id': 'ODc1NTE4', 'data': [{'printablePath': '', 'inspectionId': 0, 'facilityId': 'ODc1NTE4', 'columns': {'0': 'No Inspections To Display'}, 'violations': {}}]}\n",
      "{'id': 'MzEyNzUwNg==', 'data': [{'printablePath': '', 'inspectionId': 0, 'facilityId': 'MzEyNzUwNg==', 'columns': {'0': 'No Inspections To Display'}, 'violations': {}}]}\n",
      "{'id': 'OTQ4NDM2NA==', 'data': [{'printablePath': '', 'inspectionId': 0, 'facilityId': 'OTQ4NDM2NA==', 'columns': {'0': 'No Inspections To Display'}, 'violations': {}}]}\n",
      "{'id': 'MTMyODc4Mw==', 'data': [{'printablePath': '', 'inspectionId': 0, 'facilityId': 'MTMyODc4Mw==', 'columns': {'0': 'No Inspections To Display'}, 'violations': {}}]}\n",
      "{'id': 'MzEzNzY2MQ==', 'data': [{'printablePath': '', 'inspectionId': 0, 'facilityId': 'MzEzNzY2MQ==', 'columns': {'0': 'No Inspections To Display'}, 'violations': {}}]}\n",
      "{'id': 'MTI3NjYwNjE=', 'data': [{'printablePath': '', 'inspectionId': 0, 'facilityId': 'MTI3NjYwNjE=', 'columns': {'0': 'No Inspections To Display'}, 'violations': {}}]}\n",
      "{'id': 'MzEzMTc1NQ==', 'data': [{'printablePath': '', 'inspectionId': 0, 'facilityId': 'MzEzMTc1NQ==', 'columns': {'0': 'No Inspections To Display'}, 'violations': {}}]}\n",
      "{'id': 'ODgzOTky', 'data': [{'printablePath': '', 'inspectionId': 0, 'facilityId': 'ODgzOTky', 'columns': {'0': 'No Inspections To Display'}, 'violations': {}}]}\n",
      "{'id': 'ODgwNzEz', 'data': [{'printablePath': '', 'inspectionId': 0, 'facilityId': 'ODgwNzEz', 'columns': {'0': 'No Inspections To Display'}, 'violations': {}}]}\n",
      "{'id': 'MzE0Nzk5MQ==', 'data': [{'printablePath': '', 'inspectionId': 0, 'facilityId': 'MzE0Nzk5MQ==', 'columns': {'0': 'No Inspections To Display'}, 'violations': {}}]}\n",
      "{'id': 'OTQ5MDMwMQ==', 'data': [{'printablePath': '', 'inspectionId': 0, 'facilityId': 'OTQ5MDMwMQ==', 'columns': {'0': 'No Inspections To Display'}, 'violations': {}}]}\n"
     ]
    }
   ],
   "source": [
    "from datetime import datetime\n",
    "\n",
    "rows = []\n",
    "for entity in extracted:\n",
    "    entity_id = entity['id']\n",
    "    entity_data = entity['data']\n",
    "    for inspection in entity_data:\n",
    "        inspection_data = inspection['columns']\n",
    "        inspection_id = inspection['inspectionId']\n",
    "        if inspection_id != 0:\n",
    "            violation_count = len(inspection['violations'])\n",
    "            if violation_count > 0:\n",
    "                for k, v in inspection['violations'].items():\n",
    "                    violation_raw = v[0].split(' - ', 1)\n",
    "                    violation_code = violation_raw[0]\n",
    "                    section_detail = violation_raw[1]\n",
    "                    inspector_note = v[5].replace(\"Inspector Notes: \", '')\n",
    "                    corrected = v[3].replace(\"Corrected during inspection?: \", '')\n",
    "                    repeat = v[4].replace(\"Repeat: \", '')\n",
    "                    if \"Yes\" in corrected:\n",
    "                        corrected = True\n",
    "                    else:\n",
    "                        corrected = False\n",
    "                    if \"Yes\" in repeat:\n",
    "                        repeat = True\n",
    "                    else:\n",
    "                        repeat = False\n",
    "                    try:\n",
    "                        row = {\n",
    "                            'inspection_id': inspection_id,\n",
    "                            'dph_id': entity_id,\n",
    "                            'date': datetime.strptime(inspection_data['0'].replace(\"Date: \", ''), '%m-%d-%Y').date(),\n",
    "                            'purpose': inspection_data['1'].replace(\"Inspection Purpose: \", ''),\n",
    "                            'score': int(inspection_data['2'].replace(\"Score: \", '')),\n",
    "                            'inspector': inspection_data['3'].replace(\"Inspector: \", ''),\n",
    "                            'printable_path': inspection['printablePath'],\n",
    "                            'violation_count': violation_count,\n",
    "                            'violation_code': violation_code,\n",
    "                            'section_detail': section_detail,\n",
    "                            'inspector_note': inspector_note,\n",
    "                            'corrected': corrected,\n",
    "                            'repeat': repeat\n",
    "                        }\n",
    "                    except Exception as e:\n",
    "                        print(e, inspection, entity)\n",
    "                        break\n",
    "                    rows.append(row)\n",
    "        else:\n",
    "            print(entity)\n",
    "\n",
    "df_violations = pd.DataFrame.from_records(rows)\n",
    "entity_details = df[['dph_id', 'name', 'types', 'place_id']]\n",
    "merged_df = df_violations.merge(entity_details, how=\"inner\", on=\"dph_id\")\n",
    "merged_df.to_pickle('violations_df.pkl')"
   ],
   "metadata": {
    "collapsed": false,
    "ExecuteTime": {
     "start_time": "2023-04-04T01:14:59.103356Z",
     "end_time": "2023-04-04T01:14:59.306759Z"
    }
   }
  },
  {
   "cell_type": "code",
   "execution_count": 16,
   "outputs": [
    {
     "data": {
      "text/plain": "       inspection_id        dph_id        date  purpose  score  \\\n0           57269737  MTIyOTQyMTA=  2021-08-23  Routine     89   \n1           57317194  MTIyOTQyOTM=  2022-09-21  Routine     95   \n2           57317194  MTIyOTQyOTM=  2022-09-21  Routine     95   \n3           57317194  MTIyOTQyOTM=  2022-09-21  Routine     95   \n4           57293839  MTIyOTQyOTM=  2022-03-15  Routine     91   \n...              ...           ...         ...      ...    ...   \n38249       56759654  Nzk1NjQzMw==  2020-05-11  Routine     92   \n38250       56759654  Nzk1NjQzMw==  2020-05-11  Routine     92   \n38251       56759654  Nzk1NjQzMw==  2020-05-11  Routine     92   \n38252       56759650  Nzk1Mzc1MQ==  2020-05-08  Routine     99   \n38253       56759650  Nzk1Mzc1MQ==  2020-05-08  Routine     99   \n\n                inspector                                     printable_path  \\\n0             Mariam Musa  ../../_templates/87/food_2015/_report_full.cfm...   \n1           Carley Rhoden  ../../_templates/87/food_2015/_report_full.cfm...   \n2           Carley Rhoden  ../../_templates/87/food_2015/_report_full.cfm...   \n3           Carley Rhoden  ../../_templates/87/food_2015/_report_full.cfm...   \n4           Carley Rhoden  ../../_templates/87/food_2015/_report_full.cfm...   \n...                   ...                                                ...   \n38249  shirleyas chambers  ../../_templates/87/food_2015/_report_full.cfm...   \n38250  shirleyas chambers  ../../_templates/87/food_2015/_report_full.cfm...   \n38251  shirleyas chambers  ../../_templates/87/food_2015/_report_full.cfm...   \n38252    Richard Campbell  ../../_templates/87/food_2015/_report_full.cfm...   \n38253    Richard Campbell  ../../_templates/87/food_2015/_report_full.cfm...   \n\n       violation_count violation_code  \\\n0                    1           6-1A   \n1                    3           4-2B   \n2                    3            15A   \n3                    3            15C   \n4                    1           6-1B   \n...                ...            ...   \n38249                3           2-2D   \n38250                3            11C   \n38251                3            17D   \n38252                2            17C   \n38253                2            17D   \n\n                                          section_detail  \\\n0                       proper cold holding temperatures   \n1             food-contact surfaces: cleaned & sanitized   \n2      food and nonfood-contact surfaces cleanable, p...   \n3                         nonfood-contact surfaces clean   \n4                        proper hot holding temperatures   \n...                                                  ...   \n38249  adequate handwashing facilities supplied & acc...   \n38250                      approved thawing methods used   \n38251  adequate ventilation and lighting; designated ...   \n38252  physical facilities installed, maintained, and...   \n38253  adequate ventilation and lighting; designated ...   \n\n                                          inspector_note  corrected  repeat  \\\n0      Observed TCS food item (diced tomatoes) not co...       True    True   \n1      Observed two sanitizer buckets reading below 2...       True   False   \n2      Observed rug on underneath rubber mat on floor...       True   False   \n3      Observed icicles that had formed on walk in fr...      False   False   \n4      Observed multiple foods holding below 135F. Se...       True   False   \n...                                                  ...        ...     ...   \n38249  At the time of inspection, observed no handsoa...       True   False   \n38250  Observed chicken in meat sink thawing in stagn...       True   False   \n38251  At the time of inspection observed employee dr...       True   False   \n38252           Ceiling not smooth and easily cleanable.      False   False   \n38253  Observed broken light shield in kitchen. Repla...      False   False   \n\n                                                    name  \\\n0                             OAKHURST ELEMENTARY SCHOOL   \n1                              DRUID HILLS MIDDLE SCHOOL   \n2                              DRUID HILLS MIDDLE SCHOOL   \n3                              DRUID HILLS MIDDLE SCHOOL   \n4                              DRUID HILLS MIDDLE SCHOOL   \n...                                                  ...   \n38249                                Boston Fish Supreme   \n38250                                Boston Fish Supreme   \n38251                                Boston Fish Supreme   \n38252  SpringHill Suites By Marriott Atlanta Perimete...   \n38253  SpringHill Suites By Marriott Atlanta Perimete...   \n\n                                                   types  \\\n0      [establishment, point_of_interest, primary_sch...   \n1             [establishment, point_of_interest, school]   \n2             [establishment, point_of_interest, school]   \n3             [establishment, point_of_interest, school]   \n4             [establishment, point_of_interest, school]   \n...                                                  ...   \n38249  [establishment, food, point_of_interest, resta...   \n38250  [establishment, food, point_of_interest, resta...   \n38251  [establishment, food, point_of_interest, resta...   \n38252        [establishment, lodging, point_of_interest]   \n38253        [establishment, lodging, point_of_interest]   \n\n                          place_id  \n0      ChIJRfrKdi4H9YgRwOiI0-YFgbI  \n1      ChIJI-EIKIsH9YgRtfevY250O74  \n2      ChIJI-EIKIsH9YgRtfevY250O74  \n3      ChIJI-EIKIsH9YgRtfevY250O74  \n4      ChIJI-EIKIsH9YgRtfevY250O74  \n...                            ...  \n38249  ChIJ59NmO3AD9YgRJsL3BTxHUVk  \n38250  ChIJ59NmO3AD9YgRJsL3BTxHUVk  \n38251  ChIJ59NmO3AD9YgRJsL3BTxHUVk  \n38252  ChIJM9VxgKwO9YgRyAdoKEnhMeU  \n38253  ChIJM9VxgKwO9YgRyAdoKEnhMeU  \n\n[38254 rows x 16 columns]",
      "text/html": "<div>\n<style scoped>\n    .dataframe tbody tr th:only-of-type {\n        vertical-align: middle;\n    }\n\n    .dataframe tbody tr th {\n        vertical-align: top;\n    }\n\n    .dataframe thead th {\n        text-align: right;\n    }\n</style>\n<table border=\"1\" class=\"dataframe\">\n  <thead>\n    <tr style=\"text-align: right;\">\n      <th></th>\n      <th>inspection_id</th>\n      <th>dph_id</th>\n      <th>date</th>\n      <th>purpose</th>\n      <th>score</th>\n      <th>inspector</th>\n      <th>printable_path</th>\n      <th>violation_count</th>\n      <th>violation_code</th>\n      <th>section_detail</th>\n      <th>inspector_note</th>\n      <th>corrected</th>\n      <th>repeat</th>\n      <th>name</th>\n      <th>types</th>\n      <th>place_id</th>\n    </tr>\n  </thead>\n  <tbody>\n    <tr>\n      <th>0</th>\n      <td>57269737</td>\n      <td>MTIyOTQyMTA=</td>\n      <td>2021-08-23</td>\n      <td>Routine</td>\n      <td>89</td>\n      <td>Mariam Musa</td>\n      <td>../../_templates/87/food_2015/_report_full.cfm...</td>\n      <td>1</td>\n      <td>6-1A</td>\n      <td>proper cold holding temperatures</td>\n      <td>Observed TCS food item (diced tomatoes) not co...</td>\n      <td>True</td>\n      <td>True</td>\n      <td>OAKHURST ELEMENTARY SCHOOL</td>\n      <td>[establishment, point_of_interest, primary_sch...</td>\n      <td>ChIJRfrKdi4H9YgRwOiI0-YFgbI</td>\n    </tr>\n    <tr>\n      <th>1</th>\n      <td>57317194</td>\n      <td>MTIyOTQyOTM=</td>\n      <td>2022-09-21</td>\n      <td>Routine</td>\n      <td>95</td>\n      <td>Carley Rhoden</td>\n      <td>../../_templates/87/food_2015/_report_full.cfm...</td>\n      <td>3</td>\n      <td>4-2B</td>\n      <td>food-contact surfaces: cleaned &amp; sanitized</td>\n      <td>Observed two sanitizer buckets reading below 2...</td>\n      <td>True</td>\n      <td>False</td>\n      <td>DRUID HILLS MIDDLE SCHOOL</td>\n      <td>[establishment, point_of_interest, school]</td>\n      <td>ChIJI-EIKIsH9YgRtfevY250O74</td>\n    </tr>\n    <tr>\n      <th>2</th>\n      <td>57317194</td>\n      <td>MTIyOTQyOTM=</td>\n      <td>2022-09-21</td>\n      <td>Routine</td>\n      <td>95</td>\n      <td>Carley Rhoden</td>\n      <td>../../_templates/87/food_2015/_report_full.cfm...</td>\n      <td>3</td>\n      <td>15A</td>\n      <td>food and nonfood-contact surfaces cleanable, p...</td>\n      <td>Observed rug on underneath rubber mat on floor...</td>\n      <td>True</td>\n      <td>False</td>\n      <td>DRUID HILLS MIDDLE SCHOOL</td>\n      <td>[establishment, point_of_interest, school]</td>\n      <td>ChIJI-EIKIsH9YgRtfevY250O74</td>\n    </tr>\n    <tr>\n      <th>3</th>\n      <td>57317194</td>\n      <td>MTIyOTQyOTM=</td>\n      <td>2022-09-21</td>\n      <td>Routine</td>\n      <td>95</td>\n      <td>Carley Rhoden</td>\n      <td>../../_templates/87/food_2015/_report_full.cfm...</td>\n      <td>3</td>\n      <td>15C</td>\n      <td>nonfood-contact surfaces clean</td>\n      <td>Observed icicles that had formed on walk in fr...</td>\n      <td>False</td>\n      <td>False</td>\n      <td>DRUID HILLS MIDDLE SCHOOL</td>\n      <td>[establishment, point_of_interest, school]</td>\n      <td>ChIJI-EIKIsH9YgRtfevY250O74</td>\n    </tr>\n    <tr>\n      <th>4</th>\n      <td>57293839</td>\n      <td>MTIyOTQyOTM=</td>\n      <td>2022-03-15</td>\n      <td>Routine</td>\n      <td>91</td>\n      <td>Carley Rhoden</td>\n      <td>../../_templates/87/food_2015/_report_full.cfm...</td>\n      <td>1</td>\n      <td>6-1B</td>\n      <td>proper hot holding temperatures</td>\n      <td>Observed multiple foods holding below 135F. Se...</td>\n      <td>True</td>\n      <td>False</td>\n      <td>DRUID HILLS MIDDLE SCHOOL</td>\n      <td>[establishment, point_of_interest, school]</td>\n      <td>ChIJI-EIKIsH9YgRtfevY250O74</td>\n    </tr>\n    <tr>\n      <th>...</th>\n      <td>...</td>\n      <td>...</td>\n      <td>...</td>\n      <td>...</td>\n      <td>...</td>\n      <td>...</td>\n      <td>...</td>\n      <td>...</td>\n      <td>...</td>\n      <td>...</td>\n      <td>...</td>\n      <td>...</td>\n      <td>...</td>\n      <td>...</td>\n      <td>...</td>\n      <td>...</td>\n    </tr>\n    <tr>\n      <th>38249</th>\n      <td>56759654</td>\n      <td>Nzk1NjQzMw==</td>\n      <td>2020-05-11</td>\n      <td>Routine</td>\n      <td>92</td>\n      <td>shirleyas chambers</td>\n      <td>../../_templates/87/food_2015/_report_full.cfm...</td>\n      <td>3</td>\n      <td>2-2D</td>\n      <td>adequate handwashing facilities supplied &amp; acc...</td>\n      <td>At the time of inspection, observed no handsoa...</td>\n      <td>True</td>\n      <td>False</td>\n      <td>Boston Fish Supreme</td>\n      <td>[establishment, food, point_of_interest, resta...</td>\n      <td>ChIJ59NmO3AD9YgRJsL3BTxHUVk</td>\n    </tr>\n    <tr>\n      <th>38250</th>\n      <td>56759654</td>\n      <td>Nzk1NjQzMw==</td>\n      <td>2020-05-11</td>\n      <td>Routine</td>\n      <td>92</td>\n      <td>shirleyas chambers</td>\n      <td>../../_templates/87/food_2015/_report_full.cfm...</td>\n      <td>3</td>\n      <td>11C</td>\n      <td>approved thawing methods used</td>\n      <td>Observed chicken in meat sink thawing in stagn...</td>\n      <td>True</td>\n      <td>False</td>\n      <td>Boston Fish Supreme</td>\n      <td>[establishment, food, point_of_interest, resta...</td>\n      <td>ChIJ59NmO3AD9YgRJsL3BTxHUVk</td>\n    </tr>\n    <tr>\n      <th>38251</th>\n      <td>56759654</td>\n      <td>Nzk1NjQzMw==</td>\n      <td>2020-05-11</td>\n      <td>Routine</td>\n      <td>92</td>\n      <td>shirleyas chambers</td>\n      <td>../../_templates/87/food_2015/_report_full.cfm...</td>\n      <td>3</td>\n      <td>17D</td>\n      <td>adequate ventilation and lighting; designated ...</td>\n      <td>At the time of inspection observed employee dr...</td>\n      <td>True</td>\n      <td>False</td>\n      <td>Boston Fish Supreme</td>\n      <td>[establishment, food, point_of_interest, resta...</td>\n      <td>ChIJ59NmO3AD9YgRJsL3BTxHUVk</td>\n    </tr>\n    <tr>\n      <th>38252</th>\n      <td>56759650</td>\n      <td>Nzk1Mzc1MQ==</td>\n      <td>2020-05-08</td>\n      <td>Routine</td>\n      <td>99</td>\n      <td>Richard Campbell</td>\n      <td>../../_templates/87/food_2015/_report_full.cfm...</td>\n      <td>2</td>\n      <td>17C</td>\n      <td>physical facilities installed, maintained, and...</td>\n      <td>Ceiling not smooth and easily cleanable.</td>\n      <td>False</td>\n      <td>False</td>\n      <td>SpringHill Suites By Marriott Atlanta Perimete...</td>\n      <td>[establishment, lodging, point_of_interest]</td>\n      <td>ChIJM9VxgKwO9YgRyAdoKEnhMeU</td>\n    </tr>\n    <tr>\n      <th>38253</th>\n      <td>56759650</td>\n      <td>Nzk1Mzc1MQ==</td>\n      <td>2020-05-08</td>\n      <td>Routine</td>\n      <td>99</td>\n      <td>Richard Campbell</td>\n      <td>../../_templates/87/food_2015/_report_full.cfm...</td>\n      <td>2</td>\n      <td>17D</td>\n      <td>adequate ventilation and lighting; designated ...</td>\n      <td>Observed broken light shield in kitchen. Repla...</td>\n      <td>False</td>\n      <td>False</td>\n      <td>SpringHill Suites By Marriott Atlanta Perimete...</td>\n      <td>[establishment, lodging, point_of_interest]</td>\n      <td>ChIJM9VxgKwO9YgRyAdoKEnhMeU</td>\n    </tr>\n  </tbody>\n</table>\n<p>38254 rows × 16 columns</p>\n</div>"
     },
     "execution_count": 16,
     "metadata": {},
     "output_type": "execute_result"
    }
   ],
   "source": [
    "merged_df"
   ],
   "metadata": {
    "collapsed": false,
    "ExecuteTime": {
     "start_time": "2023-04-11T19:20:21.758411Z",
     "end_time": "2023-04-11T19:20:21.801677Z"
    }
   }
  },
  {
   "cell_type": "code",
   "execution_count": 20,
   "outputs": [
    {
     "data": {
      "text/plain": "violation_code\n1-2A     2862\n1-2B     3719\n10A         4\n10B        32\n10C        37\n10D      6614\n11A      5811\n11B        17\n11C      2593\n11D      2291\n12A      5715\n12B      5771\n12C      3028\n12D       772\n13A      9022\n13B       135\n14A      4909\n14B      2992\n14C      2779\n14D        98\n15A      8704\n15B      4464\n15C     12959\n16A      1825\n16B      3299\n16C       381\n17A      1912\n17B      1629\n17C     13128\n17D      6662\n18       9582\n2-1B     2093\n2-1C      509\n2-2A     4662\n2-2B     2819\n2-2C        3\n2-2D    13440\n2-2E     4518\n3-1A      111\n3-1B       76\n3-1C     1375\n3-1D      102\n4-1A     4415\n4-1B      104\n4-2A     5499\n4-2B    20810\n5-1A      126\n5-1B      218\n5-2       644\n6-1A    10140\n6-1B     3306\n6-1C     1234\n6-1D     1826\n6-2      5584\n7-1        23\n8-2B     4645\n9-2       142\nName: violation_count, dtype: int64"
     },
     "execution_count": 20,
     "metadata": {},
     "output_type": "execute_result"
    }
   ],
   "source": [
    "# The most common violations:\n",
    "merged_df.groupby('violation_code')['violation_count'].sum()"
   ],
   "metadata": {
    "collapsed": false,
    "ExecuteTime": {
     "start_time": "2023-04-11T19:23:57.366643Z",
     "end_time": "2023-04-11T19:23:57.445521Z"
    }
   }
  },
  {
   "cell_type": "code",
   "execution_count": null,
   "outputs": [],
   "source": [],
   "metadata": {
    "collapsed": false
   }
  }
 ],
 "metadata": {
  "kernelspec": {
   "display_name": "Python 3",
   "language": "python",
   "name": "python3"
  },
  "language_info": {
   "codemirror_mode": {
    "name": "ipython",
    "version": 2
   },
   "file_extension": ".py",
   "mimetype": "text/x-python",
   "name": "python",
   "nbconvert_exporter": "python",
   "pygments_lexer": "ipython2",
   "version": "2.7.6"
  }
 },
 "nbformat": 4,
 "nbformat_minor": 0
}
