{
 "cells": [
  {
   "cell_type": "code",
   "execution_count": 1,
   "metadata": {
    "collapsed": true,
    "ExecuteTime": {
     "start_time": "2023-04-05T19:48:58.068075Z",
     "end_time": "2023-04-05T19:48:58.260833Z"
    }
   },
   "outputs": [
    {
     "data": {
      "text/plain": "       inspection_id        dph_id        date  purpose  score  \\\n0           57344281  MTIyOTQyMTA=  2023-03-28  Routine    100   \n1           57323814  MTIyOTQyMTA=  2022-11-04  Routine    100   \n2           57298579  MTIyOTQyMTA=  2022-04-21  Routine    100   \n3           57269737  MTIyOTQyMTA=  2021-08-23  Routine     89   \n4           57344379  MTIyOTQyOTM=  2023-03-28  Routine    100   \n...              ...           ...         ...      ...    ...   \n18959       56760259  MzEzNjg1MQ==  2020-05-28  Routine     99   \n18960       56759669  OTQ5MjM3NQ==  2020-05-12  Routine    100   \n18961       56759654  Nzk1NjQzMw==  2020-05-11  Routine     92   \n18962       56759650  Nzk1Mzc1MQ==  2020-05-08  Routine     99   \n18963       56759476  MTIyNzQwOTg=  2020-04-29  Initial    100   \n\n                inspector                                     printable_path  \\\n0          Alaina Mauldin  ../../_templates/87/food_2015/_report_full.cfm...   \n1             Mariam Musa  ../../_templates/87/food_2015/_report_full.cfm...   \n2             Mariam Musa  ../../_templates/87/food_2015/_report_full.cfm...   \n3             Mariam Musa  ../../_templates/87/food_2015/_report_full.cfm...   \n4           Carley Rhoden  ../../_templates/87/food_2015/_report_full.cfm...   \n...                   ...                                                ...   \n18959         Bresa Daise  ../../_templates/87/food_2015/_report_full.cfm...   \n18960         Bresa Daise  ../../_templates/87/food_2015/_report_full.cfm...   \n18961  shirleyas chambers  ../../_templates/87/food_2015/_report_full.cfm...   \n18962    Richard Campbell  ../../_templates/87/food_2015/_report_full.cfm...   \n18963         Katie Logan  ../../_templates/87/food_2015/_report_full.cfm...   \n\n       violation_count   violation_codes  \\\n0                    0                []   \n1                    0                []   \n2                    0                []   \n3                    1            [6-1A]   \n4                    0                []   \n...                ...               ...   \n18959                1             [17D]   \n18960                0                []   \n18961                3  [2-2D, 11C, 17D]   \n18962                2        [17C, 17D]   \n18963                0                []   \n\n                                         inspector_notes  \\\n0                                                     []   \n1                                                     []   \n2                                                     []   \n3      [Observed TCS food item (diced tomatoes) not c...   \n4                                                     []   \n...                                                  ...   \n18959  [Observed JBL speaker on prep top table. All e...   \n18960                                                 []   \n18961  [At the time of inspection, observed no handso...   \n18962  [Ceiling not smooth and easily cleanable., Obs...   \n18963                                                 []   \n\n                                                    name  \n0                             OAKHURST ELEMENTARY SCHOOL  \n1                             OAKHURST ELEMENTARY SCHOOL  \n2                             OAKHURST ELEMENTARY SCHOOL  \n3                             OAKHURST ELEMENTARY SCHOOL  \n4                              DRUID HILLS MIDDLE SCHOOL  \n...                                                  ...  \n18959                                  Bread & Butterfly  \n18960                       Plant Based Pizzeria- Mobile  \n18961                                Boston Fish Supreme  \n18962  SpringHill Suites By Marriott Atlanta Perimete...  \n18963                                        Sahara Cafe  \n\n[18964 rows x 11 columns]",
      "text/html": "<div>\n<style scoped>\n    .dataframe tbody tr th:only-of-type {\n        vertical-align: middle;\n    }\n\n    .dataframe tbody tr th {\n        vertical-align: top;\n    }\n\n    .dataframe thead th {\n        text-align: right;\n    }\n</style>\n<table border=\"1\" class=\"dataframe\">\n  <thead>\n    <tr style=\"text-align: right;\">\n      <th></th>\n      <th>inspection_id</th>\n      <th>dph_id</th>\n      <th>date</th>\n      <th>purpose</th>\n      <th>score</th>\n      <th>inspector</th>\n      <th>printable_path</th>\n      <th>violation_count</th>\n      <th>violation_codes</th>\n      <th>inspector_notes</th>\n      <th>name</th>\n    </tr>\n  </thead>\n  <tbody>\n    <tr>\n      <th>0</th>\n      <td>57344281</td>\n      <td>MTIyOTQyMTA=</td>\n      <td>2023-03-28</td>\n      <td>Routine</td>\n      <td>100</td>\n      <td>Alaina Mauldin</td>\n      <td>../../_templates/87/food_2015/_report_full.cfm...</td>\n      <td>0</td>\n      <td>[]</td>\n      <td>[]</td>\n      <td>OAKHURST ELEMENTARY SCHOOL</td>\n    </tr>\n    <tr>\n      <th>1</th>\n      <td>57323814</td>\n      <td>MTIyOTQyMTA=</td>\n      <td>2022-11-04</td>\n      <td>Routine</td>\n      <td>100</td>\n      <td>Mariam Musa</td>\n      <td>../../_templates/87/food_2015/_report_full.cfm...</td>\n      <td>0</td>\n      <td>[]</td>\n      <td>[]</td>\n      <td>OAKHURST ELEMENTARY SCHOOL</td>\n    </tr>\n    <tr>\n      <th>2</th>\n      <td>57298579</td>\n      <td>MTIyOTQyMTA=</td>\n      <td>2022-04-21</td>\n      <td>Routine</td>\n      <td>100</td>\n      <td>Mariam Musa</td>\n      <td>../../_templates/87/food_2015/_report_full.cfm...</td>\n      <td>0</td>\n      <td>[]</td>\n      <td>[]</td>\n      <td>OAKHURST ELEMENTARY SCHOOL</td>\n    </tr>\n    <tr>\n      <th>3</th>\n      <td>57269737</td>\n      <td>MTIyOTQyMTA=</td>\n      <td>2021-08-23</td>\n      <td>Routine</td>\n      <td>89</td>\n      <td>Mariam Musa</td>\n      <td>../../_templates/87/food_2015/_report_full.cfm...</td>\n      <td>1</td>\n      <td>[6-1A]</td>\n      <td>[Observed TCS food item (diced tomatoes) not c...</td>\n      <td>OAKHURST ELEMENTARY SCHOOL</td>\n    </tr>\n    <tr>\n      <th>4</th>\n      <td>57344379</td>\n      <td>MTIyOTQyOTM=</td>\n      <td>2023-03-28</td>\n      <td>Routine</td>\n      <td>100</td>\n      <td>Carley Rhoden</td>\n      <td>../../_templates/87/food_2015/_report_full.cfm...</td>\n      <td>0</td>\n      <td>[]</td>\n      <td>[]</td>\n      <td>DRUID HILLS MIDDLE SCHOOL</td>\n    </tr>\n    <tr>\n      <th>...</th>\n      <td>...</td>\n      <td>...</td>\n      <td>...</td>\n      <td>...</td>\n      <td>...</td>\n      <td>...</td>\n      <td>...</td>\n      <td>...</td>\n      <td>...</td>\n      <td>...</td>\n      <td>...</td>\n    </tr>\n    <tr>\n      <th>18959</th>\n      <td>56760259</td>\n      <td>MzEzNjg1MQ==</td>\n      <td>2020-05-28</td>\n      <td>Routine</td>\n      <td>99</td>\n      <td>Bresa Daise</td>\n      <td>../../_templates/87/food_2015/_report_full.cfm...</td>\n      <td>1</td>\n      <td>[17D]</td>\n      <td>[Observed JBL speaker on prep top table. All e...</td>\n      <td>Bread &amp; Butterfly</td>\n    </tr>\n    <tr>\n      <th>18960</th>\n      <td>56759669</td>\n      <td>OTQ5MjM3NQ==</td>\n      <td>2020-05-12</td>\n      <td>Routine</td>\n      <td>100</td>\n      <td>Bresa Daise</td>\n      <td>../../_templates/87/food_2015/_report_full.cfm...</td>\n      <td>0</td>\n      <td>[]</td>\n      <td>[]</td>\n      <td>Plant Based Pizzeria- Mobile</td>\n    </tr>\n    <tr>\n      <th>18961</th>\n      <td>56759654</td>\n      <td>Nzk1NjQzMw==</td>\n      <td>2020-05-11</td>\n      <td>Routine</td>\n      <td>92</td>\n      <td>shirleyas chambers</td>\n      <td>../../_templates/87/food_2015/_report_full.cfm...</td>\n      <td>3</td>\n      <td>[2-2D, 11C, 17D]</td>\n      <td>[At the time of inspection, observed no handso...</td>\n      <td>Boston Fish Supreme</td>\n    </tr>\n    <tr>\n      <th>18962</th>\n      <td>56759650</td>\n      <td>Nzk1Mzc1MQ==</td>\n      <td>2020-05-08</td>\n      <td>Routine</td>\n      <td>99</td>\n      <td>Richard Campbell</td>\n      <td>../../_templates/87/food_2015/_report_full.cfm...</td>\n      <td>2</td>\n      <td>[17C, 17D]</td>\n      <td>[Ceiling not smooth and easily cleanable., Obs...</td>\n      <td>SpringHill Suites By Marriott Atlanta Perimete...</td>\n    </tr>\n    <tr>\n      <th>18963</th>\n      <td>56759476</td>\n      <td>MTIyNzQwOTg=</td>\n      <td>2020-04-29</td>\n      <td>Initial</td>\n      <td>100</td>\n      <td>Katie Logan</td>\n      <td>../../_templates/87/food_2015/_report_full.cfm...</td>\n      <td>0</td>\n      <td>[]</td>\n      <td>[]</td>\n      <td>Sahara Cafe</td>\n    </tr>\n  </tbody>\n</table>\n<p>18964 rows × 11 columns</p>\n</div>"
     },
     "execution_count": 1,
     "metadata": {},
     "output_type": "execute_result"
    }
   ],
   "source": [
    "import pandas as pd\n",
    "\n",
    "df = pd.read_pickle('inspection_df.pkl')\n",
    "df"
   ]
  },
  {
   "cell_type": "markdown",
   "source": [
    "## Pandas, Use Aggregate!\n",
    "- Calculate aggregated values like\n",
    "    - Average violations over time (Violation Rate)\n",
    "    - Time in business (years_data)\n",
    "    - Running average score (int)\n",
    "    - Combined all the comments (string)"
   ],
   "metadata": {
    "collapsed": false
   }
  },
  {
   "cell_type": "code",
   "execution_count": 35,
   "outputs": [
    {
     "name": "stderr",
     "output_type": "stream",
     "text": [
      "/tmp/ipykernel_771478/1469062488.py:4: FutureWarning: In a future version of pandas, a length 1 tuple will be returned when iterating over a groupby with a grouper equal to a list of length 1. Don't supply a list with a single grouper to avoid this warning.\n",
      "  for name, group in grouped:\n"
     ]
    }
   ],
   "source": [
    "grouped = df.groupby(['dph_id'])\n",
    "\n",
    "# For each business entity\n",
    "aggregated_rows = []\n",
    "for name, group in grouped:\n",
    "    grouped_comments = []\n",
    "    grouped_violations = []\n",
    "    date_delta = group.max(axis=0)['date'] - group.min(axis=0)['date']\n",
    "    data_date_range = date_delta.days/365\n",
    "    lifetime_violations = group['violation_count'].sum()\n",
    "    lifetime_avg = group['score'].mean()\n",
    "    for index, inspection in group.iterrows():\n",
    "        if len(inspection['inspector_notes']) > 0:\n",
    "            grouped_comments += inspection['inspector_notes']\n",
    "        if len(inspection['violation_codes']) > 0:\n",
    "            grouped_violations += inspection['violation_codes']\n",
    "\n",
    "    # Calculate violation rate: if operating less than 1 year, violation rate = lifetime violations\n",
    "    # else lifetime rate = violations/years in operation\n",
    "    if data_date_range <= 1.0:\n",
    "        lifetime_rate = lifetime_violations\n",
    "    else:\n",
    "        lifetime_rate = lifetime_violations/data_date_range\n",
    "\n",
    "    row = {\n",
    "        'dph_id': name,\n",
    "        'violations': grouped_violations,\n",
    "        'years_data': data_date_range,\n",
    "        'lifetime_count': lifetime_violations,\n",
    "        'lifetime_comments': ' '.join(grouped_comments).replace('\\r\\n', ''),\n",
    "        'lifetime_avg': lifetime_avg,\n",
    "        'violation_rate': lifetime_rate\n",
    "    }\n",
    "    aggregated_rows.append(row)"
   ],
   "metadata": {
    "collapsed": false,
    "ExecuteTime": {
     "start_time": "2023-04-05T21:08:21.571497Z",
     "end_time": "2023-04-05T21:08:28.949860Z"
    }
   }
  },
  {
   "cell_type": "code",
   "execution_count": 37,
   "outputs": [
    {
     "data": {
      "text/plain": "            dph_id                                         violations  \\\n0     MTE4MTc1Mg==  [8-2B, 11A, 15C, 4-2B, 15B, 17A, 17C, 17D, 11A...   \n1     MTE4MTc2MA==                                                 []   \n2     MTE4MTc2Nw==                                  [6-1A, 6-1C, 13A]   \n3     MTE4MTcxOA==                            [2-2D, 4-2B, 15A, 6-1A]   \n4     MTE4MTcyMQ==                                                 []   \n...            ...                                                ...   \n7837  OTQ5MzY3NA==                                                 []   \n7838  OTQ5MzY3NQ==  [2-2D, 4-2B, 6-2, 15C, 17C, 17C, 18, 4-2B, 17C...   \n7839  OTQ5MzcwNQ==  [3-1B, 8-2B, 2-2A, 2-2E, 5-1B, 11A, 3-1B, 11A,...   \n7840  OTQ5MzcwNw==                        [6-1A, 6-1B, 10D, 16A, 16B]   \n7841  OTQ5MzcwOQ==  [2-2A, 2-2E, 4-2B, 10D, 13A, 14C, 15A, 10D, 12...   \n\n      years_data  lifetime_count  \\\n0       2.230137              11   \n1       0.000000               0   \n2       0.000000               3   \n3       2.460274               4   \n4       0.613699               0   \n...          ...             ...   \n7837    0.000000               0   \n7838    2.893151              23   \n7839    1.997260              10   \n7840    2.569863               5   \n7841    2.435616              11   \n\n                                      lifetime_comments  lifetime_avg  \\\n0     Observed the concentration of the sanitizer in...     96.500000   \n1                                                          100.000000   \n2          See Attachment See Attachment See Attachment     88.000000   \n3     Observed Handwash sink in bar used as dumpsink...     93.333333   \n4                                                          100.000000   \n...                                                 ...           ...   \n7837                                                       100.000000   \n7838  Observed failure to have hand soap at sushi ba...     89.200000   \n7839  46F milk and 65F chicken wrap sandwich.  No de...     92.500000   \n7840  Observed various salsas and sour cream being s...     95.333333   \n7841  Observed PIC could not provide documentation o...     92.666667   \n\n      violation_rate  \n0           4.932432  \n1           0.000000  \n2           3.000000  \n3           1.625835  \n4           0.000000  \n...              ...  \n7837        0.000000  \n7838        7.949811  \n7839        5.006859  \n7840        1.945629  \n7841        4.516310  \n\n[7842 rows x 7 columns]",
      "text/html": "<div>\n<style scoped>\n    .dataframe tbody tr th:only-of-type {\n        vertical-align: middle;\n    }\n\n    .dataframe tbody tr th {\n        vertical-align: top;\n    }\n\n    .dataframe thead th {\n        text-align: right;\n    }\n</style>\n<table border=\"1\" class=\"dataframe\">\n  <thead>\n    <tr style=\"text-align: right;\">\n      <th></th>\n      <th>dph_id</th>\n      <th>violations</th>\n      <th>years_data</th>\n      <th>lifetime_count</th>\n      <th>lifetime_comments</th>\n      <th>lifetime_avg</th>\n      <th>violation_rate</th>\n    </tr>\n  </thead>\n  <tbody>\n    <tr>\n      <th>0</th>\n      <td>MTE4MTc1Mg==</td>\n      <td>[8-2B, 11A, 15C, 4-2B, 15B, 17A, 17C, 17D, 11A...</td>\n      <td>2.230137</td>\n      <td>11</td>\n      <td>Observed the concentration of the sanitizer in...</td>\n      <td>96.500000</td>\n      <td>4.932432</td>\n    </tr>\n    <tr>\n      <th>1</th>\n      <td>MTE4MTc2MA==</td>\n      <td>[]</td>\n      <td>0.000000</td>\n      <td>0</td>\n      <td></td>\n      <td>100.000000</td>\n      <td>0.000000</td>\n    </tr>\n    <tr>\n      <th>2</th>\n      <td>MTE4MTc2Nw==</td>\n      <td>[6-1A, 6-1C, 13A]</td>\n      <td>0.000000</td>\n      <td>3</td>\n      <td>See Attachment See Attachment See Attachment</td>\n      <td>88.000000</td>\n      <td>3.000000</td>\n    </tr>\n    <tr>\n      <th>3</th>\n      <td>MTE4MTcxOA==</td>\n      <td>[2-2D, 4-2B, 15A, 6-1A]</td>\n      <td>2.460274</td>\n      <td>4</td>\n      <td>Observed Handwash sink in bar used as dumpsink...</td>\n      <td>93.333333</td>\n      <td>1.625835</td>\n    </tr>\n    <tr>\n      <th>4</th>\n      <td>MTE4MTcyMQ==</td>\n      <td>[]</td>\n      <td>0.613699</td>\n      <td>0</td>\n      <td></td>\n      <td>100.000000</td>\n      <td>0.000000</td>\n    </tr>\n    <tr>\n      <th>...</th>\n      <td>...</td>\n      <td>...</td>\n      <td>...</td>\n      <td>...</td>\n      <td>...</td>\n      <td>...</td>\n      <td>...</td>\n    </tr>\n    <tr>\n      <th>7837</th>\n      <td>OTQ5MzY3NA==</td>\n      <td>[]</td>\n      <td>0.000000</td>\n      <td>0</td>\n      <td></td>\n      <td>100.000000</td>\n      <td>0.000000</td>\n    </tr>\n    <tr>\n      <th>7838</th>\n      <td>OTQ5MzY3NQ==</td>\n      <td>[2-2D, 4-2B, 6-2, 15C, 17C, 17C, 18, 4-2B, 17C...</td>\n      <td>2.893151</td>\n      <td>23</td>\n      <td>Observed failure to have hand soap at sushi ba...</td>\n      <td>89.200000</td>\n      <td>7.949811</td>\n    </tr>\n    <tr>\n      <th>7839</th>\n      <td>OTQ5MzcwNQ==</td>\n      <td>[3-1B, 8-2B, 2-2A, 2-2E, 5-1B, 11A, 3-1B, 11A,...</td>\n      <td>1.997260</td>\n      <td>10</td>\n      <td>46F milk and 65F chicken wrap sandwich.  No de...</td>\n      <td>92.500000</td>\n      <td>5.006859</td>\n    </tr>\n    <tr>\n      <th>7840</th>\n      <td>OTQ5MzcwNw==</td>\n      <td>[6-1A, 6-1B, 10D, 16A, 16B]</td>\n      <td>2.569863</td>\n      <td>5</td>\n      <td>Observed various salsas and sour cream being s...</td>\n      <td>95.333333</td>\n      <td>1.945629</td>\n    </tr>\n    <tr>\n      <th>7841</th>\n      <td>OTQ5MzcwOQ==</td>\n      <td>[2-2A, 2-2E, 4-2B, 10D, 13A, 14C, 15A, 10D, 12...</td>\n      <td>2.435616</td>\n      <td>11</td>\n      <td>Observed PIC could not provide documentation o...</td>\n      <td>92.666667</td>\n      <td>4.516310</td>\n    </tr>\n  </tbody>\n</table>\n<p>7842 rows × 7 columns</p>\n</div>"
     },
     "execution_count": 37,
     "metadata": {},
     "output_type": "execute_result"
    }
   ],
   "source": [
    "agg_df = pd.DataFrame.from_records(aggregated_rows)\n",
    "agg_df.to_pickle('entity_aggregation.pkl')\n",
    "agg_df"
   ],
   "metadata": {
    "collapsed": false,
    "ExecuteTime": {
     "start_time": "2023-04-05T21:08:28.991136Z",
     "end_time": "2023-04-05T21:08:29.005802Z"
    }
   }
  }
 ],
 "metadata": {
  "kernelspec": {
   "display_name": "Python 3",
   "language": "python",
   "name": "python3"
  },
  "language_info": {
   "codemirror_mode": {
    "name": "ipython",
    "version": 2
   },
   "file_extension": ".py",
   "mimetype": "text/x-python",
   "name": "python",
   "nbconvert_exporter": "python",
   "pygments_lexer": "ipython2",
   "version": "2.7.6"
  }
 },
 "nbformat": 4,
 "nbformat_minor": 0
}
